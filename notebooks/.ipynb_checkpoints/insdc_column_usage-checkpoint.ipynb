{
 "cells": [
  {
   "cell_type": "code",
   "execution_count": 1,
   "id": "ea293a0a",
   "metadata": {
    "ExecuteTime": {
     "end_time": "2021-09-26T21:47:21.174597Z",
     "start_time": "2021-09-26T21:47:14.851886Z"
    }
   },
   "outputs": [],
   "source": [
    "import pandas as pd\n",
    "import os\n",
    "from pandas_profiling import ProfileReport\n",
    "import matplotlib.pyplot as plt\n",
    "from sklearn.preprocessing import StandardScaler\n",
    "from sklearn.decomposition import PCA\n",
    "from matplotlib import cm\n",
    "\n",
    "# import matplotlib as mpl\n",
    "from linkml_runtime.utils.schemaview import SchemaView\n",
    "import json"
   ]
  },
  {
   "cell_type": "code",
   "execution_count": 2,
   "id": "808e16a5",
   "metadata": {
    "ExecuteTime": {
     "end_time": "2021-09-26T21:47:31.507967Z",
     "start_time": "2021-09-26T21:47:31.505748Z"
    }
   },
   "outputs": [],
   "source": [
    "# cwd = os.getcwd()\n",
    "# cwd\n",
    "# # '/Users/MAM/Documents/gitrepos/biosample-basex/notebooks'"
   ]
  },
  {
   "cell_type": "markdown",
   "id": "77592845",
   "metadata": {},
   "source": [
    "```\n",
    "% basex /Users/MAM/Documents/gitrepos/biosample-analysis/xqueries/get_harmonized-values_all_has_env_pack.xq > /Users/MAM/Documents/gitrepos/biosample-analysis/target/get_harmonized-values_all_has_env_pack.tsv\n",
    "\n",
    "% basex /Users/MAM/Documents/gitrepos/biosample-analysis/xqueries/non-bsattribute-columns_has_env_pack.xq > /Users/MAM/Documents/gitrepos/biosample-analysis/target/non-bsattribute-columns_has_env_pack.tsv\n",
    "```"
   ]
  },
  {
   "cell_type": "code",
   "execution_count": 3,
   "id": "77cca157",
   "metadata": {
    "ExecuteTime": {
     "end_time": "2021-09-26T21:47:44.949407Z",
     "start_time": "2021-09-26T21:47:44.946194Z"
    }
   },
   "outputs": [],
   "source": [
    "# record the queries\n",
    "# rows with env package values only\n",
    "# /Users/MAM/Documents/gitrepos/biosample-analysis/...\n",
    "accidental_root = \"/Users/MAM/Documents/gitrepos/biosample-analysis\"\n",
    "\n",
    "hn_long_file = \"target/get_harmonized-values_all_has_env_pack.tsv\"\n",
    "hn_long_file = os.path.join(accidental_root, hn_long_file)\n",
    "# print(hn_long_file)\n",
    "\n",
    "bs_non_attribute_file = \"target/non-bsattribute-columns_has_env_pack.tsv\"\n",
    "bs_non_attribute_file = os.path.join(accidental_root, bs_non_attribute_file)\n",
    "\n",
    "env_package_mapping_file = \"raw_env_package_mappings_only_20210924.tsv\""
   ]
  },
  {
   "cell_type": "code",
   "execution_count": 4,
   "id": "ed650e21",
   "metadata": {
    "ExecuteTime": {
     "end_time": "2021-09-26T21:47:52.678195Z",
     "start_time": "2021-09-26T21:47:52.548320Z"
    }
   },
   "outputs": [],
   "source": [
    "mixs_model_file = \"../../mixs-source/model/schema/mixs.yaml\"\n",
    "mixs_view = SchemaView(mixs_model_file)"
   ]
  },
  {
   "cell_type": "code",
   "execution_count": 5,
   "id": "12e33655",
   "metadata": {
    "ExecuteTime": {
     "end_time": "2021-09-26T21:48:04.998387Z",
     "start_time": "2021-09-26T21:48:01.992804Z"
    }
   },
   "outputs": [],
   "source": [
    "mixs_classes = mixs_view.all_classes()\n",
    "mixs_classes_keys = mixs_classes.keys()"
   ]
  },
  {
   "cell_type": "code",
   "execution_count": 6,
   "id": "9ab061b9",
   "metadata": {
    "ExecuteTime": {
     "end_time": "2021-09-26T21:48:21.920105Z",
     "start_time": "2021-09-26T21:48:20.110010Z"
    }
   },
   "outputs": [],
   "source": [
    "outer_list = []\n",
    "for current_class in mixs_classes_keys:\n",
    "    current_induceds = mixs_view.class_induced_slots(current_class)\n",
    "    for i in current_induceds:\n",
    "        outer_list.append([current_class, i.name, i.required, i.recommended])\n",
    "\n",
    "df = pd.DataFrame(outer_list)\n",
    "df.columns = [\"class\", \"slot\", \"required\", \"recommended\"]\n",
    "df.to_clipboard(index=False)"
   ]
  },
  {
   "cell_type": "code",
   "execution_count": 7,
   "id": "49333597",
   "metadata": {
    "ExecuteTime": {
     "end_time": "2021-09-26T21:48:27.346400Z",
     "start_time": "2021-09-26T21:48:27.340464Z"
    }
   },
   "outputs": [],
   "source": [
    "mixs_soil_slots = list(df[\"slot\"].loc[df[\"class\"].eq(\"soil\")])\n",
    "mixs_soil_slots.sort()"
   ]
  },
  {
   "cell_type": "code",
   "execution_count": 8,
   "id": "ca36ab6b",
   "metadata": {
    "ExecuteTime": {
     "end_time": "2021-09-26T21:48:28.947530Z",
     "start_time": "2021-09-26T21:48:28.945110Z"
    }
   },
   "outputs": [],
   "source": [
    "# mixs_soil_slots"
   ]
  },
  {
   "cell_type": "code",
   "execution_count": 9,
   "id": "789e1626",
   "metadata": {
    "ExecuteTime": {
     "end_time": "2021-09-26T21:48:29.815705Z",
     "start_time": "2021-09-26T21:48:29.813312Z"
    }
   },
   "outputs": [],
   "source": [
    "# montana_soil_columns = pd.read_clipboard()\n",
    "# montana_soil_columns = list(montana_soil_columns['column'])"
   ]
  },
  {
   "cell_type": "code",
   "execution_count": 10,
   "id": "4a32e8d0",
   "metadata": {
    "ExecuteTime": {
     "end_time": "2021-09-26T21:48:30.819098Z",
     "start_time": "2021-09-26T21:48:30.811801Z"
    }
   },
   "outputs": [],
   "source": [
    "montana_soil_columns = [\n",
    "    \"agrochem_addition\",\n",
    "    \"al_sat\",\n",
    "    \"al_sat_meth\",\n",
    "    \"annual_precpt\",\n",
    "    \"annual_temp\",\n",
    "    \"biotic_relationship\",\n",
    "    \"crop_rotation\",\n",
    "    \"cur_land_use\",\n",
    "    \"cur_vegetation\",\n",
    "    \"cur_vegetation_meth\",\n",
    "    \"drainage_class\",\n",
    "    \"extreme_event\",\n",
    "    \"extreme_salinity\",\n",
    "    \"fao_class\",\n",
    "    \"fire\",\n",
    "    \"flooding\",\n",
    "    \"heavy_metals\",\n",
    "    \"heavy_metals_meth\",\n",
    "    \"horizon\",\n",
    "    \"horizon_meth\",\n",
    "    \"lab_ID\",\n",
    "    \"link_addit_analys\",\n",
    "    \"link_class_info\",\n",
    "    \"link_climate_info\",\n",
    "    \"local_class\",\n",
    "    \"local_class_meth\",\n",
    "    \"microbial_biomass\",\n",
    "    \"microbial_biomass_meth\",\n",
    "    \"misc_param\",\n",
    "    \"oxy_stat_samp\",\n",
    "    \"ph\",\n",
    "    \"ph_meth\",\n",
    "    \"previous_land_use\",\n",
    "    \"previous_land_use_meth\",\n",
    "    \"profile_position\",\n",
    "    \"salinity_meth\",\n",
    "    \"season_precpt\",\n",
    "    \"season_temp\",\n",
    "    \"slope_aspect\",\n",
    "    \"slope_gradient\",\n",
    "    \"soil_type\",\n",
    "    \"soil_type_meth\",\n",
    "    \"texture\",\n",
    "    \"texture_meth\",\n",
    "    \"tillage\",\n",
    "    \"tot_nitro_content\",\n",
    "    \"tot_nitro_content_meth\",\n",
    "    \"tot_org_c_meth\",\n",
    "    \"tot_org_carb\",\n",
    "    \"unique_ID\",\n",
    "    \"water_content\",\n",
    "    \"water_content_meth\",\n",
    "    \"depth\",\n",
    "    \"elev\",\n",
    "    \"samp_collect_device\",\n",
    "    \"size_fract\",\n",
    "    \"filter_size\",\n",
    "    \"filter_type\",\n",
    "    \"sieving\",\n",
    "    \"treatment\",\n",
    "    \"air_temp_regm\",\n",
    "    \"biotic_regm\",\n",
    "    \"chem_administration\",\n",
    "    \"climate_environment\",\n",
    "    \"gaseous_environment\",\n",
    "    \"humidity_regm\",\n",
    "    \"isotope_exposure\",\n",
    "    \"light_regm\",\n",
    "    \"watering_regm\",\n",
    "    \"ID\",\n",
    "    \"investigation_type\",\n",
    "    \"package\",\n",
    "    \"sample_name\",\n",
    "    \"source_mat_ID\",\n",
    "    \"collection_date\",\n",
    "    \"env_broad_scale\",\n",
    "    \"env_local_scale\",\n",
    "    \"env_medium\",\n",
    "    \"geo_loc_name\",\n",
    "    \"gold_ecosystem\",\n",
    "    \"growth_facil\",\n",
    "    \"lat_lon\",\n",
    "    \"microbiome_taxonomy\",\n",
    "    \"samp_mat_process\",\n",
    "    \"samp_size\",\n",
    "    \"samp_store_temp\",\n",
    "    \"store_cond\",\n",
    "]"
   ]
  },
  {
   "cell_type": "code",
   "execution_count": 11,
   "id": "246e0ca6",
   "metadata": {
    "ExecuteTime": {
     "end_time": "2021-09-26T21:48:31.924486Z",
     "start_time": "2021-09-26T21:48:31.921853Z"
    }
   },
   "outputs": [],
   "source": [
    "montana_only = list(set(montana_soil_columns) - set(mixs_soil_slots))"
   ]
  },
  {
   "cell_type": "code",
   "execution_count": 12,
   "id": "65e3742e",
   "metadata": {
    "ExecuteTime": {
     "end_time": "2021-09-26T21:48:33.469901Z",
     "start_time": "2021-09-26T21:48:33.467572Z"
    }
   },
   "outputs": [],
   "source": [
    "montana_only.sort()\n",
    "# montana_only"
   ]
  },
  {
   "cell_type": "code",
   "execution_count": 13,
   "id": "f4f7775a",
   "metadata": {
    "ExecuteTime": {
     "end_time": "2021-09-26T21:48:34.611893Z",
     "start_time": "2021-09-26T21:48:34.609164Z"
    }
   },
   "outputs": [],
   "source": [
    "mixs_slot_only = list(set(mixs_soil_slots) - set(montana_soil_columns))\n",
    "mixs_slot_only.sort()"
   ]
  },
  {
   "cell_type": "code",
   "execution_count": 14,
   "id": "abad8346",
   "metadata": {
    "ExecuteTime": {
     "end_time": "2021-09-26T21:48:35.703459Z",
     "start_time": "2021-09-26T21:48:35.701055Z"
    }
   },
   "outputs": [],
   "source": [
    "# mixs_slot_only"
   ]
  },
  {
   "cell_type": "code",
   "execution_count": 15,
   "id": "237f1cdb",
   "metadata": {
    "ExecuteTime": {
     "end_time": "2021-09-26T21:48:36.606095Z",
     "start_time": "2021-09-26T21:48:36.603489Z"
    }
   },
   "outputs": [],
   "source": [
    "soil_slot_intersection = set(montana_soil_columns).intersection(set(mixs_soil_slots))"
   ]
  },
  {
   "cell_type": "code",
   "execution_count": 16,
   "id": "cd04aed5",
   "metadata": {
    "ExecuteTime": {
     "end_time": "2021-09-26T21:48:37.739190Z",
     "start_time": "2021-09-26T21:48:37.736908Z"
    }
   },
   "outputs": [],
   "source": [
    "# soil_slot_intersection"
   ]
  },
  {
   "cell_type": "code",
   "execution_count": 17,
   "id": "a05a75df",
   "metadata": {
    "ExecuteTime": {
     "end_time": "2021-09-26T21:48:38.690057Z",
     "start_time": "2021-09-26T21:48:38.686573Z"
    }
   },
   "outputs": [],
   "source": [
    "all_model_slots = list(mixs_view.all_slots().keys())\n",
    "all_model_slots.sort()\n",
    "# all_model_slots"
   ]
  },
  {
   "cell_type": "code",
   "execution_count": 18,
   "id": "364109d0",
   "metadata": {
    "ExecuteTime": {
     "end_time": "2021-09-26T21:48:39.821712Z",
     "start_time": "2021-09-26T21:48:39.819208Z"
    }
   },
   "outputs": [],
   "source": [
    "montana_only_defined = set(montana_only).intersection(set(all_model_slots))"
   ]
  },
  {
   "cell_type": "code",
   "execution_count": 19,
   "id": "952fa6d0",
   "metadata": {
    "ExecuteTime": {
     "end_time": "2021-09-26T21:48:41.695749Z",
     "start_time": "2021-09-26T21:48:41.693538Z"
    }
   },
   "outputs": [],
   "source": [
    "# montana_only_defined"
   ]
  },
  {
   "cell_type": "code",
   "execution_count": 20,
   "id": "9cb82b73",
   "metadata": {
    "ExecuteTime": {
     "end_time": "2021-09-26T21:48:42.608687Z",
     "start_time": "2021-09-26T21:48:42.605574Z"
    }
   },
   "outputs": [],
   "source": [
    "montana_only_novel = set(montana_only) - set(all_model_slots)"
   ]
  },
  {
   "cell_type": "code",
   "execution_count": 21,
   "id": "71242900",
   "metadata": {
    "ExecuteTime": {
     "end_time": "2021-09-26T21:48:44.055329Z",
     "start_time": "2021-09-26T21:48:44.053166Z"
    }
   },
   "outputs": [],
   "source": [
    "# montana_only_novel"
   ]
  },
  {
   "cell_type": "code",
   "execution_count": 22,
   "id": "ad1aa357",
   "metadata": {
    "ExecuteTime": {
     "end_time": "2021-09-26T21:49:01.746043Z",
     "start_time": "2021-09-26T21:49:01.742844Z"
    }
   },
   "outputs": [],
   "source": [
    "slot_column_analysis = {\n",
    "    \"montana_only\": {\n",
    "        \"mixs_defined\": list(montana_only_defined),\n",
    "        \"montana_novel\": list(montana_only_novel),\n",
    "    },\n",
    "    \"mixs_slot_only\": list(mixs_slot_only),\n",
    "    \"montana_mixs_soil_intersection\": list(soil_slot_intersection),\n",
    "}"
   ]
  },
  {
   "cell_type": "code",
   "execution_count": null,
   "id": "38725347",
   "metadata": {
    "ExecuteTime": {
     "end_time": "2021-09-26T21:43:25.602680Z",
     "start_time": "2021-09-26T21:43:25.597318Z"
    }
   },
   "outputs": [],
   "source": [
    "# slot_column_analysis"
   ]
  },
  {
   "cell_type": "code",
   "execution_count": 23,
   "id": "71a496ad",
   "metadata": {
    "ExecuteTime": {
     "end_time": "2021-09-26T21:49:17.305819Z",
     "start_time": "2021-09-26T21:49:17.302648Z"
    }
   },
   "outputs": [],
   "source": [
    "with open('slot_column_analysis.json', 'w') as fp:\n",
    "    json.dump(slot_column_analysis, fp)"
   ]
  },
  {
   "cell_type": "markdown",
   "id": "3dc4f48d",
   "metadata": {},
   "source": [
    "---"
   ]
  },
  {
   "cell_type": "code",
   "execution_count": null,
   "id": "654cfe63",
   "metadata": {
    "ExecuteTime": {
     "end_time": "2021-09-26T21:00:25.593383Z",
     "start_time": "2021-09-26T21:00:25.591118Z"
    }
   },
   "outputs": [],
   "source": [
    "# mixs_view.get_class(\"ME\")"
   ]
  },
  {
   "cell_type": "code",
   "execution_count": null,
   "id": "9997b977",
   "metadata": {
    "ExecuteTime": {
     "end_time": "2021-09-26T21:00:28.051356Z",
     "start_time": "2021-09-26T21:00:28.026139Z"
    }
   },
   "outputs": [],
   "source": [
    "env_package_mapping = pd.read_csv(env_package_mapping_file, sep=\"\\t\")\n",
    "env_package_mapping"
   ]
  },
  {
   "cell_type": "code",
   "execution_count": null,
   "id": "12e6cd2f",
   "metadata": {
    "ExecuteTime": {
     "end_time": "2021-09-25T18:05:49.979957Z",
     "start_time": "2021-09-25T18:05:49.002463Z"
    }
   },
   "outputs": [],
   "source": [
    "bs_non_attribute = pd.read_csv(bs_non_attribute_file, sep=\"\\t\")"
   ]
  },
  {
   "cell_type": "code",
   "execution_count": null,
   "id": "641f43e8",
   "metadata": {
    "ExecuteTime": {
     "end_time": "2021-09-25T18:05:49.985466Z",
     "start_time": "2021-09-25T18:05:49.981757Z"
    }
   },
   "outputs": [],
   "source": [
    "bs_non_attribute.shape"
   ]
  },
  {
   "cell_type": "code",
   "execution_count": null,
   "id": "a00a9eba",
   "metadata": {
    "ExecuteTime": {
     "end_time": "2021-09-25T18:05:50.008620Z",
     "start_time": "2021-09-25T18:05:49.987038Z"
    }
   },
   "outputs": [],
   "source": [
    "bs_non_attribute"
   ]
  },
  {
   "cell_type": "code",
   "execution_count": null,
   "id": "e93f795d",
   "metadata": {
    "ExecuteTime": {
     "end_time": "2021-09-25T18:05:51.268695Z",
     "start_time": "2021-09-25T18:05:50.010056Z"
    }
   },
   "outputs": [],
   "source": [
    "hn_long = pd.read_csv(hn_long_file, sep=\"\\t\")"
   ]
  },
  {
   "cell_type": "code",
   "execution_count": null,
   "id": "ff6e8c18",
   "metadata": {
    "ExecuteTime": {
     "end_time": "2021-09-25T18:05:51.276950Z",
     "start_time": "2021-09-25T18:05:51.272961Z"
    }
   },
   "outputs": [],
   "source": [
    "hn_long.shape"
   ]
  },
  {
   "cell_type": "code",
   "execution_count": null,
   "id": "8b96c73a",
   "metadata": {
    "ExecuteTime": {
     "end_time": "2021-09-25T18:06:02.760397Z",
     "start_time": "2021-09-25T18:05:51.278218Z"
    }
   },
   "outputs": [],
   "source": [
    "# 12 sec for 3963432 rows\n",
    "hn_wide = hn_long.pivot(index=\"id\", columns=\"attribute\", values=\"value\")\n",
    "# hn_wide"
   ]
  },
  {
   "cell_type": "code",
   "execution_count": null,
   "id": "6c5c1868",
   "metadata": {
    "ExecuteTime": {
     "end_time": "2021-09-25T18:06:03.603086Z",
     "start_time": "2021-09-25T18:06:02.761864Z"
    }
   },
   "outputs": [],
   "source": [
    "# env_package_mapping\n",
    "# raw_env_package\tenv_package\n",
    "hn_wide = hn_wide.merge(\n",
    "    env_package_mapping,\n",
    "    how=\"left\",\n",
    "    left_on=\"env_package\",\n",
    "    right_on=\"raw_env_package\",\n",
    "    suffixes=[\"_original\", \"_mapped\"],\n",
    ")\n",
    "# hn_wide"
   ]
  },
  {
   "cell_type": "code",
   "execution_count": null,
   "id": "ff0d2638",
   "metadata": {
    "ExecuteTime": {
     "end_time": "2021-09-25T18:06:07.525815Z",
     "start_time": "2021-09-25T18:06:03.605199Z"
    }
   },
   "outputs": [],
   "source": [
    "column_na_fraction = hn_wide.groupby(\"env_package_mapped\").apply(\n",
    "    lambda x: x.notnull().mean()\n",
    ")\n",
    "column_na_fraction"
   ]
  },
  {
   "cell_type": "markdown",
   "id": "92afe4e4",
   "metadata": {},
   "source": [
    "----"
   ]
  },
  {
   "cell_type": "code",
   "execution_count": null,
   "id": "16f0b351",
   "metadata": {
    "ExecuteTime": {
     "end_time": "2021-09-25T18:06:07.537249Z",
     "start_time": "2021-09-25T18:06:07.527179Z"
    }
   },
   "outputs": [],
   "source": [
    "scaled = StandardScaler().fit_transform(column_na_fraction)\n",
    "# scaled"
   ]
  },
  {
   "cell_type": "code",
   "execution_count": null,
   "id": "908f4adb",
   "metadata": {
    "ExecuteTime": {
     "end_time": "2021-09-25T18:06:07.546711Z",
     "start_time": "2021-09-25T18:06:07.538542Z"
    }
   },
   "outputs": [],
   "source": [
    "pca = PCA(n_components=2)\n",
    "principalComponents = pca.fit_transform(scaled)\n",
    "principalDf = pd.DataFrame(\n",
    "    data=principalComponents, columns=[\"principal component 1\", \"principal component 2\"]\n",
    ")\n",
    "principalDf.index = column_na_fraction.index\n",
    "principalDf"
   ]
  },
  {
   "cell_type": "code",
   "execution_count": null,
   "id": "99904938",
   "metadata": {
    "ExecuteTime": {
     "end_time": "2021-09-25T18:06:07.879049Z",
     "start_time": "2021-09-25T18:06:07.547999Z"
    }
   },
   "outputs": [],
   "source": [
    "plt.rcParams[\"figure.figsize\"] = [15, 15]\n",
    "\n",
    "cmap = cm.get_cmap(\"Spectral\")\n",
    "fig, ax3 = plt.subplots()\n",
    "principalDf.plot(\n",
    "    \"principal component 1\",\n",
    "    \"principal component 2\",\n",
    "    kind=\"scatter\",\n",
    "    ax=ax3,\n",
    "    s=120,\n",
    "    linewidth=0,\n",
    "    c=range(len(principalDf)),\n",
    "    colormap=cmap,\n",
    ")\n",
    "\n",
    "for k, v in principalDf.iterrows():\n",
    "    ax3.annotate(\n",
    "        k,\n",
    "        v,\n",
    "        xytext=(10, -5),\n",
    "        textcoords=\"offset points\",\n",
    "        family=\"sans-serif\",\n",
    "        fontsize=12,\n",
    "        #         color=\"darkslategrey\",\n",
    "        color=\"black\",\n",
    "    )\n",
    "\n",
    "plt.savefig(\"insdc_column_usage.pdf\")"
   ]
  },
  {
   "cell_type": "markdown",
   "id": "bbec3907",
   "metadata": {},
   "source": [
    "----"
   ]
  },
  {
   "cell_type": "code",
   "execution_count": null,
   "id": "5bd99b20",
   "metadata": {
    "ExecuteTime": {
     "end_time": "2021-09-25T18:06:07.882556Z",
     "start_time": "2021-09-25T18:06:07.880447Z"
    }
   },
   "outputs": [],
   "source": [
    "# column_na_fraction_features = list[column_na_fraction.columns]\n",
    "# column_na_fraction_features.remove([\"\"])"
   ]
  },
  {
   "cell_type": "code",
   "execution_count": null,
   "id": "43875ded",
   "metadata": {
    "ExecuteTime": {
     "end_time": "2021-09-25T18:06:07.885547Z",
     "start_time": "2021-09-25T18:06:07.883789Z"
    }
   },
   "outputs": [],
   "source": [
    "# hnw_ep_counts = hn_wide[\"env_package\"].value_counts()"
   ]
  },
  {
   "cell_type": "code",
   "execution_count": null,
   "id": "313f82f3",
   "metadata": {
    "ExecuteTime": {
     "end_time": "2021-09-25T18:06:07.888674Z",
     "start_time": "2021-09-25T18:06:07.886905Z"
    }
   },
   "outputs": [],
   "source": [
    "# hnw_ep_counts = hnw_ep_counts.rename_axis(\"raw_env_package\").reset_index(name=\"count\")\n",
    "# # hnw_ep_counts['count']\n",
    "# hnw_ep_counts"
   ]
  },
  {
   "cell_type": "code",
   "execution_count": null,
   "id": "3f4c5d3e",
   "metadata": {
    "ExecuteTime": {
     "end_time": "2021-09-25T18:06:07.891843Z",
     "start_time": "2021-09-25T18:06:07.889984Z"
    }
   },
   "outputs": [],
   "source": [
    "# hnw_ep_counts.to_csv(\"raw_env_package_counts.tsv\", sep=\"\\t\", index=False)"
   ]
  },
  {
   "cell_type": "code",
   "execution_count": null,
   "id": "663ca9c6",
   "metadata": {
    "ExecuteTime": {
     "end_time": "2021-09-25T18:06:07.894910Z",
     "start_time": "2021-09-25T18:06:07.893109Z"
    },
    "scrolled": true
   },
   "outputs": [],
   "source": [
    "# plt.hist(hnw_ep_counts[\"count\"], bins=99)"
   ]
  },
  {
   "cell_type": "code",
   "execution_count": null,
   "id": "bd7320a0",
   "metadata": {
    "ExecuteTime": {
     "end_time": "2021-09-25T18:06:07.897698Z",
     "start_time": "2021-09-25T18:06:07.896053Z"
    },
    "scrolled": true
   },
   "outputs": [],
   "source": [
    "# temp = hnw_ep_counts.loc[hnw_ep_counts[\"count\"].gt(100)]\n",
    "# temp"
   ]
  },
  {
   "cell_type": "code",
   "execution_count": null,
   "id": "0acf3405",
   "metadata": {
    "ExecuteTime": {
     "end_time": "2021-09-25T18:06:07.921143Z",
     "start_time": "2021-09-25T18:06:07.899167Z"
    }
   },
   "outputs": [],
   "source": [
    "profile = ProfileReport(\n",
    "    hn_wide, title=\"Pandas Profiling Report\", minimal=True, vars={\"cat\": {\"n_obs\": 20}}\n",
    ")"
   ]
  },
  {
   "cell_type": "code",
   "execution_count": null,
   "id": "9cf4373f",
   "metadata": {
    "ExecuteTime": {
     "end_time": "2021-09-25T18:06:27.725717Z",
     "start_time": "2021-09-25T18:06:07.922590Z"
    }
   },
   "outputs": [],
   "source": [
    "a = profile.to_json()\n",
    "textfile = open(\"insdc_biosample_WITH_env_package_profile.json\", \"w\")\n",
    "textfile.write(a)\n",
    "textfile.close()"
   ]
  },
  {
   "cell_type": "code",
   "execution_count": null,
   "id": "b2c122ea",
   "metadata": {
    "ExecuteTime": {
     "end_time": "2021-09-25T18:09:27.013744Z",
     "start_time": "2021-09-25T18:06:27.727994Z"
    },
    "scrolled": true
   },
   "outputs": [],
   "source": [
    "profile.to_widgets()"
   ]
  },
  {
   "cell_type": "code",
   "execution_count": null,
   "id": "a135d1a2",
   "metadata": {
    "ExecuteTime": {
     "end_time": "2021-09-25T18:09:30.010311Z",
     "start_time": "2021-09-25T18:09:27.015153Z"
    }
   },
   "outputs": [],
   "source": [
    "profile.to_file(\"insdc_biosample_WITH_env_package_profile.html\")"
   ]
  },
  {
   "cell_type": "code",
   "execution_count": null,
   "id": "7af04d4b",
   "metadata": {},
   "outputs": [],
   "source": []
  }
 ],
 "metadata": {
  "kernelspec": {
   "display_name": "Python 3 (ipykernel)",
   "language": "python",
   "name": "python3"
  },
  "language_info": {
   "codemirror_mode": {
    "name": "ipython",
    "version": 3
   },
   "file_extension": ".py",
   "mimetype": "text/x-python",
   "name": "python",
   "nbconvert_exporter": "python",
   "pygments_lexer": "ipython3",
   "version": "3.9.6"
  },
  "varInspector": {
   "cols": {
    "lenName": 16,
    "lenType": 16,
    "lenVar": 40
   },
   "kernels_config": {
    "python": {
     "delete_cmd_postfix": "",
     "delete_cmd_prefix": "del ",
     "library": "var_list.py",
     "varRefreshCmd": "print(var_dic_list())"
    },
    "r": {
     "delete_cmd_postfix": ") ",
     "delete_cmd_prefix": "rm(",
     "library": "var_list.r",
     "varRefreshCmd": "cat(var_dic_list()) "
    }
   },
   "types_to_exclude": [
    "module",
    "function",
    "builtin_function_or_method",
    "instance",
    "_Feature"
   ],
   "window_display": false
  }
 },
 "nbformat": 4,
 "nbformat_minor": 5
}
