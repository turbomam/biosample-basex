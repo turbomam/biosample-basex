{
 "cells": [
  {
   "cell_type": "code",
   "execution_count": 1,
   "id": "52a8e242",
   "metadata": {
    "ExecuteTime": {
     "end_time": "2021-09-27T16:15:43.488558Z",
     "start_time": "2021-09-27T16:15:41.155454Z"
    }
   },
   "outputs": [],
   "source": [
    "import pandas as pd\n",
    "import os\n",
    "from pandas_profiling import ProfileReport\n",
    "import matplotlib.pyplot as plt\n",
    "from sklearn.preprocessing import StandardScaler\n",
    "from sklearn.decomposition import PCA\n",
    "from matplotlib import cm\n",
    "\n",
    "# import matplotlib as mpl\n",
    "from linkml_runtime.utils.schemaview import SchemaView\n",
    "import json"
   ]
  },
  {
   "cell_type": "code",
   "execution_count": 2,
   "id": "25990960",
   "metadata": {
    "ExecuteTime": {
     "end_time": "2021-09-27T16:15:43.493170Z",
     "start_time": "2021-09-27T16:15:43.490549Z"
    }
   },
   "outputs": [],
   "source": [
    "# cwd = os.getcwd()\n",
    "# cwd\n",
    "# # '/Users/MAM/Documents/gitrepos/biosample-basex/notebooks'"
   ]
  },
  {
   "cell_type": "markdown",
   "id": "ecebe933",
   "metadata": {},
   "source": [
    "```\n",
    "% basex /Users/MAM/Documents/gitrepos/biosample-analysis/xqueries/get_harmonized-values_all_has_env_pack.xq > /Users/MAM/Documents/gitrepos/biosample-analysis/target/get_harmonized-values_all_has_env_pack.tsv\n",
    "\n",
    "% basex /Users/MAM/Documents/gitrepos/biosample-analysis/xqueries/non-bsattribute-columns_has_env_pack.xq > /Users/MAM/Documents/gitrepos/biosample-analysis/target/non-bsattribute-columns_has_env_pack.tsv\n",
    "```"
   ]
  },
  {
   "cell_type": "code",
   "execution_count": 3,
   "id": "32bfbd0b",
   "metadata": {
    "ExecuteTime": {
     "end_time": "2021-09-27T16:15:43.498494Z",
     "start_time": "2021-09-27T16:15:43.494757Z"
    }
   },
   "outputs": [],
   "source": [
    "# record the queries\n",
    "# rows with env package values only\n",
    "# /Users/MAM/Documents/gitrepos/biosample-analysis/...\n",
    "accidental_root = \"/Users/MAM/Documents/gitrepos/biosample-analysis\"\n",
    "\n",
    "hn_long_file = \"target/get_harmonized-values_all_has_env_pack.tsv\"\n",
    "hn_long_file = os.path.join(accidental_root, hn_long_file)\n",
    "# print(hn_long_file)\n",
    "\n",
    "bs_non_attribute_file = \"target/non-bsattribute-columns_has_env_pack.tsv\"\n",
    "bs_non_attribute_file = os.path.join(accidental_root, bs_non_attribute_file)\n",
    "\n",
    "env_package_mapping_file = \"raw_env_package_mappings_only_20210924.tsv\"\n",
    "\n",
    "mixs_model_file = \"../../mixs-source/model/schema/mixs.yaml\""
   ]
  },
  {
   "cell_type": "code",
   "execution_count": 4,
   "id": "26713062",
   "metadata": {
    "ExecuteTime": {
     "end_time": "2021-09-27T16:15:43.506264Z",
     "start_time": "2021-09-27T16:15:43.501671Z"
    }
   },
   "outputs": [],
   "source": [
    "def get_mixs_slots_by_class(mixs_class):\n",
    "    class_slots = list(\n",
    "        mixs_package_slots[\"slot\"].loc[mixs_package_slots[\"class\"].eq(mixs_class)]\n",
    "    )\n",
    "    class_slots.sort()\n",
    "    #     print(class_slots)\n",
    "    return class_slots\n",
    "\n",
    "\n",
    "def mixs_pack_slot_diff(a, b):\n",
    "    a_classes = get_mixs_slots_by_class(a)\n",
    "    b_classes = get_mixs_slots_by_class(b)\n",
    "    a_minus_b = list(set(a_classes) - set(b_classes))\n",
    "    a_minus_b.sort()\n",
    "    return a_minus_b\n",
    "\n",
    "\n",
    "def mixs_pack_slot_intersection(a, b):\n",
    "    a_classes = get_mixs_slots_by_class(a)\n",
    "    b_classes = get_mixs_slots_by_class(b)\n",
    "    a_intersect_b = list(set(a_classes).intersection(set(b_classes)))\n",
    "    a_intersect_b.sort()\n",
    "    return a_intersect_b"
   ]
  },
  {
   "cell_type": "code",
   "execution_count": 5,
   "id": "c8c5dd41",
   "metadata": {
    "ExecuteTime": {
     "end_time": "2021-09-27T16:15:43.551858Z",
     "start_time": "2021-09-27T16:15:43.507626Z"
    }
   },
   "outputs": [],
   "source": [
    "mixs_view = SchemaView(mixs_model_file)"
   ]
  },
  {
   "cell_type": "code",
   "execution_count": 6,
   "id": "fc4da021",
   "metadata": {
    "ExecuteTime": {
     "end_time": "2021-09-27T16:15:46.362689Z",
     "start_time": "2021-09-27T16:15:43.553349Z"
    }
   },
   "outputs": [],
   "source": [
    "soil_subclasses = mixs_view.class_children('soil')"
   ]
  },
  {
   "cell_type": "code",
   "execution_count": 7,
   "id": "9b7ca691",
   "metadata": {
    "ExecuteTime": {
     "end_time": "2021-09-27T16:15:46.369738Z",
     "start_time": "2021-09-27T16:15:46.364204Z"
    }
   },
   "outputs": [
    {
     "data": {
      "text/plain": [
       "'soil'"
      ]
     },
     "execution_count": 7,
     "metadata": {},
     "output_type": "execute_result"
    }
   ],
   "source": [
    "mixs_view.get_class('soil ME').is_a"
   ]
  },
  {
   "cell_type": "code",
   "execution_count": 10,
   "id": "64551668",
   "metadata": {
    "ExecuteTime": {
     "end_time": "2021-09-27T16:38:24.439504Z",
     "start_time": "2021-09-27T16:38:24.436004Z"
    }
   },
   "outputs": [
    {
     "data": {
      "text/plain": [
       "['ME']"
      ]
     },
     "execution_count": 10,
     "metadata": {},
     "output_type": "execute_result"
    }
   ],
   "source": [
    "mixs_view.get_class('soil ME').mixins"
   ]
  },
  {
   "cell_type": "code",
   "execution_count": null,
   "id": "3f9d1ce2",
   "metadata": {
    "ExecuteTime": {
     "end_time": "2021-09-27T16:15:46.791038Z",
     "start_time": "2021-09-27T16:15:46.791023Z"
    }
   },
   "outputs": [],
   "source": [
    "# x = mixs_view.class_induced_slots('soil ME')\n",
    "# # with open(\"soil_ME_induced_slots.json\", \"w\") as fp:\n",
    "# #     json.dump(x, fp)\n",
    "# for y in x:\n",
    "#     print(y.name)"
   ]
  },
  {
   "cell_type": "code",
   "execution_count": 12,
   "id": "b7fb9d1e",
   "metadata": {
    "ExecuteTime": {
     "end_time": "2021-09-27T16:38:38.874814Z",
     "start_time": "2021-09-27T16:38:38.871445Z"
    }
   },
   "outputs": [],
   "source": [
    "mixs_classes = mixs_view.all_classes()\n",
    "mixs_classes_keys = mixs_classes.keys()"
   ]
  },
  {
   "cell_type": "code",
   "execution_count": 13,
   "id": "517be8f8",
   "metadata": {
    "ExecuteTime": {
     "end_time": "2021-09-27T16:38:41.598800Z",
     "start_time": "2021-09-27T16:38:39.690122Z"
    }
   },
   "outputs": [],
   "source": [
    "outer_list = []\n",
    "for current_class in mixs_classes_keys:\n",
    "    current_induceds = mixs_view.class_induced_slots(current_class)\n",
    "    for i in current_induceds:\n",
    "        outer_list.append([current_class, i.name, i.required, i.recommended])\n",
    "\n",
    "mixs_package_slots = pd.DataFrame(outer_list)\n",
    "mixs_package_slots.columns = [\"class\", \"slot\", \"required\", \"recommended\"]\n",
    "# mixs_package_slots.to_clipboard(index=False)\n",
    "mixs_package_slots.to_csv(\"mixs_package_slots.tsv\", sep=\"\\t\", index=False)"
   ]
  },
  {
   "cell_type": "code",
   "execution_count": 15,
   "id": "eebe1075",
   "metadata": {
    "ExecuteTime": {
     "end_time": "2021-09-27T16:39:30.287904Z",
     "start_time": "2021-09-27T16:39:30.281957Z"
    }
   },
   "outputs": [],
   "source": [
    "soil_not_core = mixs_pack_slot_diff(\"soil\", \"core\")\n",
    "# soil_not_core"
   ]
  },
  {
   "cell_type": "code",
   "execution_count": 16,
   "id": "35346ba1",
   "metadata": {
    "ExecuteTime": {
     "end_time": "2021-09-27T16:39:30.878691Z",
     "start_time": "2021-09-27T16:39:30.872584Z"
    }
   },
   "outputs": [],
   "source": [
    "core_not_soil = mixs_pack_slot_diff(\"core\", \"soil\")\n",
    "# core_not_soil"
   ]
  },
  {
   "cell_type": "markdown",
   "id": "75869d22",
   "metadata": {},
   "source": [
    "---"
   ]
  },
  {
   "cell_type": "code",
   "execution_count": 17,
   "id": "b1e3da59",
   "metadata": {
    "ExecuteTime": {
     "end_time": "2021-09-27T16:39:32.182106Z",
     "start_time": "2021-09-27T16:39:32.179370Z"
    }
   },
   "outputs": [],
   "source": [
    "# Example-Soil_NMDC_SampleMetadata_soil_slots.xslx\n",
    "# montana_soil_columns = pd.read_clipboard()\n",
    "# montana_soil_columns = list(montana_soil_columns['column'])"
   ]
  },
  {
   "cell_type": "code",
   "execution_count": 18,
   "id": "44031933",
   "metadata": {
    "ExecuteTime": {
     "end_time": "2021-09-27T16:39:33.144463Z",
     "start_time": "2021-09-27T16:39:33.138551Z"
    }
   },
   "outputs": [],
   "source": [
    "montana_soil_columns = [\n",
    "    \"agrochem_addition\",\n",
    "    \"al_sat\",\n",
    "    \"al_sat_meth\",\n",
    "    \"annual_precpt\",\n",
    "    \"annual_temp\",\n",
    "    \"biotic_relationship\",\n",
    "    \"crop_rotation\",\n",
    "    \"cur_land_use\",\n",
    "    \"cur_vegetation\",\n",
    "    \"cur_vegetation_meth\",\n",
    "    \"drainage_class\",\n",
    "    \"extreme_event\",\n",
    "    \"extreme_salinity\",\n",
    "    \"fao_class\",\n",
    "    \"fire\",\n",
    "    \"flooding\",\n",
    "    \"heavy_metals\",\n",
    "    \"heavy_metals_meth\",\n",
    "    \"horizon\",\n",
    "    \"horizon_meth\",\n",
    "    \"lab_ID\",\n",
    "    \"link_addit_analys\",\n",
    "    \"link_class_info\",\n",
    "    \"link_climate_info\",\n",
    "    \"local_class\",\n",
    "    \"local_class_meth\",\n",
    "    \"microbial_biomass\",\n",
    "    \"microbial_biomass_meth\",\n",
    "    \"misc_param\",\n",
    "    \"oxy_stat_samp\",\n",
    "    \"ph\",\n",
    "    \"ph_meth\",\n",
    "    \"previous_land_use\",\n",
    "    \"previous_land_use_meth\",\n",
    "    \"profile_position\",\n",
    "    \"salinity_meth\",\n",
    "    \"season_precpt\",\n",
    "    \"season_temp\",\n",
    "    \"slope_aspect\",\n",
    "    \"slope_gradient\",\n",
    "    \"soil_type\",\n",
    "    \"soil_type_meth\",\n",
    "    \"texture\",\n",
    "    \"texture_meth\",\n",
    "    \"tillage\",\n",
    "    \"tot_nitro_content\",\n",
    "    \"tot_nitro_content_meth\",\n",
    "    \"tot_org_c_meth\",\n",
    "    \"tot_org_carb\",\n",
    "    \"unique_ID\",\n",
    "    \"water_content\",\n",
    "    \"water_content_meth\",\n",
    "    \"depth\",\n",
    "    \"elev\",\n",
    "    \"samp_collect_device\",\n",
    "    \"size_fract\",\n",
    "    \"filter_size\",\n",
    "    \"filter_type\",\n",
    "    \"sieving\",\n",
    "    \"treatment\",\n",
    "    \"air_temp_regm\",\n",
    "    \"biotic_regm\",\n",
    "    \"chem_administration\",\n",
    "    \"climate_environment\",\n",
    "    \"gaseous_environment\",\n",
    "    \"humidity_regm\",\n",
    "    \"isotope_exposure\",\n",
    "    \"light_regm\",\n",
    "    \"watering_regm\",\n",
    "    \"ID\",\n",
    "    \"investigation_type\",\n",
    "    \"package\",\n",
    "    \"sample_name\",\n",
    "    \"source_mat_ID\",\n",
    "    \"collection_date\",\n",
    "    \"env_broad_scale\",\n",
    "    \"env_local_scale\",\n",
    "    \"env_medium\",\n",
    "    \"geo_loc_name\",\n",
    "    \"gold_ecosystem\",\n",
    "    \"growth_facil\",\n",
    "    \"lat_lon\",\n",
    "    \"microbiome_taxonomy\",\n",
    "    \"samp_mat_process\",\n",
    "    \"samp_size\",\n",
    "    \"samp_store_temp\",\n",
    "    \"store_cond\",\n",
    "]"
   ]
  },
  {
   "cell_type": "code",
   "execution_count": 19,
   "id": "09d5023c",
   "metadata": {
    "ExecuteTime": {
     "end_time": "2021-09-27T16:39:35.746701Z",
     "start_time": "2021-09-27T16:39:35.743058Z"
    }
   },
   "outputs": [],
   "source": [
    "mixs_soil_slots = get_mixs_slots_by_class(\"soil\")"
   ]
  },
  {
   "cell_type": "code",
   "execution_count": 20,
   "id": "8b60ff75",
   "metadata": {
    "ExecuteTime": {
     "end_time": "2021-09-27T16:39:37.901420Z",
     "start_time": "2021-09-27T16:39:37.898648Z"
    }
   },
   "outputs": [],
   "source": [
    "montana_only = list(set(montana_soil_columns) - set(mixs_soil_slots))"
   ]
  },
  {
   "cell_type": "code",
   "execution_count": 21,
   "id": "efcf8e0b",
   "metadata": {
    "ExecuteTime": {
     "end_time": "2021-09-27T16:39:38.528920Z",
     "start_time": "2021-09-27T16:39:38.525506Z"
    }
   },
   "outputs": [],
   "source": [
    "montana_only.sort()\n",
    "# montana_only"
   ]
  },
  {
   "cell_type": "code",
   "execution_count": 22,
   "id": "e2820f5b",
   "metadata": {
    "ExecuteTime": {
     "end_time": "2021-09-27T16:39:39.147668Z",
     "start_time": "2021-09-27T16:39:39.144873Z"
    }
   },
   "outputs": [],
   "source": [
    "mixs_slot_only = list(set(mixs_soil_slots) - set(montana_soil_columns))\n",
    "mixs_slot_only.sort()"
   ]
  },
  {
   "cell_type": "code",
   "execution_count": 24,
   "id": "c2c19806",
   "metadata": {
    "ExecuteTime": {
     "end_time": "2021-09-27T16:39:41.085091Z",
     "start_time": "2021-09-27T16:39:41.082440Z"
    }
   },
   "outputs": [],
   "source": [
    "soil_slot_intersection = set(montana_soil_columns).intersection(set(mixs_soil_slots))"
   ]
  },
  {
   "cell_type": "code",
   "execution_count": 26,
   "id": "dbf08316",
   "metadata": {
    "ExecuteTime": {
     "end_time": "2021-09-27T16:39:42.697011Z",
     "start_time": "2021-09-27T16:39:42.693790Z"
    }
   },
   "outputs": [],
   "source": [
    "all_model_slots = list(mixs_view.all_slots().keys())\n",
    "all_model_slots.sort()\n",
    "# all_model_slots"
   ]
  },
  {
   "cell_type": "code",
   "execution_count": 27,
   "id": "a02d3a26",
   "metadata": {
    "ExecuteTime": {
     "end_time": "2021-09-27T16:39:43.500498Z",
     "start_time": "2021-09-27T16:39:43.497852Z"
    }
   },
   "outputs": [],
   "source": [
    "montana_only_defined = set(montana_only).intersection(set(all_model_slots))"
   ]
  },
  {
   "cell_type": "code",
   "execution_count": 29,
   "id": "9602702a",
   "metadata": {
    "ExecuteTime": {
     "end_time": "2021-09-27T16:39:45.624331Z",
     "start_time": "2021-09-27T16:39:45.621150Z"
    }
   },
   "outputs": [],
   "source": [
    "montana_only_novel = set(montana_only) - set(all_model_slots)"
   ]
  },
  {
   "cell_type": "code",
   "execution_count": 30,
   "id": "a3082d78",
   "metadata": {
    "ExecuteTime": {
     "end_time": "2021-09-27T16:40:24.219947Z",
     "start_time": "2021-09-27T16:40:24.217707Z"
    }
   },
   "outputs": [],
   "source": [
    "# sort and beautify/wrap"
   ]
  },
  {
   "cell_type": "code",
   "execution_count": 31,
   "id": "86655f2b",
   "metadata": {
    "ExecuteTime": {
     "end_time": "2021-09-27T16:40:24.920034Z",
     "start_time": "2021-09-27T16:40:24.917102Z"
    }
   },
   "outputs": [],
   "source": [
    "slot_column_analysis = {\n",
    "    \"montana_only\": {\n",
    "        \"mixs_defined\": list(montana_only_defined),\n",
    "        \"montana_novel\": list(montana_only_novel),\n",
    "    },\n",
    "    \"mixs_slot_only\": list(mixs_slot_only),\n",
    "    \"montana_mixs_soil_intersection\": list(soil_slot_intersection),\n",
    "}"
   ]
  },
  {
   "cell_type": "code",
   "execution_count": 32,
   "id": "f583ee20",
   "metadata": {
    "ExecuteTime": {
     "end_time": "2021-09-27T16:40:25.713765Z",
     "start_time": "2021-09-27T16:40:25.700057Z"
    }
   },
   "outputs": [],
   "source": [
    "with open(\"slot_column_analysis.json\", \"w\") as fp:\n",
    "    json.dump(slot_column_analysis, fp)"
   ]
  },
  {
   "cell_type": "markdown",
   "id": "97174c55",
   "metadata": {},
   "source": [
    "---"
   ]
  },
  {
   "cell_type": "code",
   "execution_count": 33,
   "id": "4eec5ed1",
   "metadata": {
    "ExecuteTime": {
     "end_time": "2021-09-27T16:40:29.062184Z",
     "start_time": "2021-09-27T16:40:29.032403Z"
    }
   },
   "outputs": [
    {
     "data": {
      "text/html": [
       "<div>\n",
       "<style scoped>\n",
       "    .dataframe tbody tr th:only-of-type {\n",
       "        vertical-align: middle;\n",
       "    }\n",
       "\n",
       "    .dataframe tbody tr th {\n",
       "        vertical-align: top;\n",
       "    }\n",
       "\n",
       "    .dataframe thead th {\n",
       "        text-align: right;\n",
       "    }\n",
       "</style>\n",
       "<table border=\"1\" class=\"dataframe\">\n",
       "  <thead>\n",
       "    <tr style=\"text-align: right;\">\n",
       "      <th></th>\n",
       "      <th>raw_env_package</th>\n",
       "      <th>env_package</th>\n",
       "    </tr>\n",
       "  </thead>\n",
       "  <tbody>\n",
       "    <tr>\n",
       "      <th>0</th>\n",
       "      <td>host-associated</td>\n",
       "      <td>host-associated</td>\n",
       "    </tr>\n",
       "    <tr>\n",
       "      <th>1</th>\n",
       "      <td>human-gut</td>\n",
       "      <td>human-gut</td>\n",
       "    </tr>\n",
       "    <tr>\n",
       "      <th>2</th>\n",
       "      <td>water</td>\n",
       "      <td>water</td>\n",
       "    </tr>\n",
       "    <tr>\n",
       "      <th>3</th>\n",
       "      <td>misc environment</td>\n",
       "      <td>miscellaneous</td>\n",
       "    </tr>\n",
       "    <tr>\n",
       "      <th>4</th>\n",
       "      <td>built environment</td>\n",
       "      <td>built</td>\n",
       "    </tr>\n",
       "    <tr>\n",
       "      <th>...</th>\n",
       "      <td>...</td>\n",
       "      <td>...</td>\n",
       "    </tr>\n",
       "    <tr>\n",
       "      <th>97</th>\n",
       "      <td>MIGS/MIMS/MIMARKS.air|||MIGS/MIMS/MIMARKS.micr...</td>\n",
       "      <td>NaN</td>\n",
       "    </tr>\n",
       "    <tr>\n",
       "      <th>98</th>\n",
       "      <td>ENVO:00000016</td>\n",
       "      <td>NaN</td>\n",
       "    </tr>\n",
       "    <tr>\n",
       "      <th>99</th>\n",
       "      <td>MIMARKS_16S</td>\n",
       "      <td>NaN</td>\n",
       "    </tr>\n",
       "    <tr>\n",
       "      <th>100</th>\n",
       "      <td>not applicable</td>\n",
       "      <td>NaN</td>\n",
       "    </tr>\n",
       "    <tr>\n",
       "      <th>101</th>\n",
       "      <td>saliva</td>\n",
       "      <td>NaN</td>\n",
       "    </tr>\n",
       "  </tbody>\n",
       "</table>\n",
       "<p>102 rows × 2 columns</p>\n",
       "</div>"
      ],
      "text/plain": [
       "                                       raw_env_package      env_package\n",
       "0                                      host-associated  host-associated\n",
       "1                                            human-gut        human-gut\n",
       "2                                                water            water\n",
       "3                                     misc environment    miscellaneous\n",
       "4                                    built environment            built\n",
       "..                                                 ...              ...\n",
       "97   MIGS/MIMS/MIMARKS.air|||MIGS/MIMS/MIMARKS.micr...              NaN\n",
       "98                                       ENVO:00000016              NaN\n",
       "99                                         MIMARKS_16S              NaN\n",
       "100                                     not applicable              NaN\n",
       "101                                             saliva              NaN\n",
       "\n",
       "[102 rows x 2 columns]"
      ]
     },
     "execution_count": 33,
     "metadata": {},
     "output_type": "execute_result"
    }
   ],
   "source": [
    "env_package_mapping = pd.read_csv(env_package_mapping_file, sep=\"\\t\")\n",
    "env_package_mapping"
   ]
  },
  {
   "cell_type": "code",
   "execution_count": 34,
   "id": "63cb02a9",
   "metadata": {
    "ExecuteTime": {
     "end_time": "2021-09-27T16:40:35.085510Z",
     "start_time": "2021-09-27T16:40:34.173667Z"
    }
   },
   "outputs": [],
   "source": [
    "bs_non_attribute = pd.read_csv(bs_non_attribute_file, sep=\"\\t\")"
   ]
  },
  {
   "cell_type": "code",
   "execution_count": 35,
   "id": "13a498f7",
   "metadata": {
    "ExecuteTime": {
     "end_time": "2021-09-27T16:40:35.564123Z",
     "start_time": "2021-09-27T16:40:35.559678Z"
    }
   },
   "outputs": [
    {
     "data": {
      "text/plain": [
       "(250815, 15)"
      ]
     },
     "execution_count": 35,
     "metadata": {},
     "output_type": "execute_result"
    }
   ],
   "source": [
    "bs_non_attribute.shape"
   ]
  },
  {
   "cell_type": "code",
   "execution_count": 36,
   "id": "b019a1e0",
   "metadata": {
    "ExecuteTime": {
     "end_time": "2021-09-27T16:40:36.458488Z",
     "start_time": "2021-09-27T16:40:36.435879Z"
    }
   },
   "outputs": [
    {
     "data": {
      "text/html": [
       "<div>\n",
       "<style scoped>\n",
       "    .dataframe tbody tr th:only-of-type {\n",
       "        vertical-align: middle;\n",
       "    }\n",
       "\n",
       "    .dataframe tbody tr th {\n",
       "        vertical-align: top;\n",
       "    }\n",
       "\n",
       "    .dataframe thead th {\n",
       "        text-align: right;\n",
       "    }\n",
       "</style>\n",
       "<table border=\"1\" class=\"dataframe\">\n",
       "  <thead>\n",
       "    <tr style=\"text-align: right;\">\n",
       "      <th></th>\n",
       "      <th>id</th>\n",
       "      <th>accession</th>\n",
       "      <th>primary_id</th>\n",
       "      <th>title</th>\n",
       "      <th>dna_source</th>\n",
       "      <th>doi</th>\n",
       "      <th>entrez_links</th>\n",
       "      <th>model</th>\n",
       "      <th>package</th>\n",
       "      <th>package_name</th>\n",
       "      <th>status</th>\n",
       "      <th>status_date</th>\n",
       "      <th>taxonomy_id</th>\n",
       "      <th>taxonomy_name</th>\n",
       "      <th>paragraph</th>\n",
       "    </tr>\n",
       "  </thead>\n",
       "  <tbody>\n",
       "    <tr>\n",
       "      <th>0</th>\n",
       "      <td>25530</td>\n",
       "      <td>SAMEA1706070</td>\n",
       "      <td>SAMEA1706070</td>\n",
       "      <td>freshwater metagenome</td>\n",
       "      <td>NaN</td>\n",
       "      <td>NaN</td>\n",
       "      <td>NaN</td>\n",
       "      <td>Generic</td>\n",
       "      <td>Generic.1.0</td>\n",
       "      <td>Generic</td>\n",
       "      <td>live</td>\n",
       "      <td>2015-08-07T13:22:21</td>\n",
       "      <td>449393</td>\n",
       "      <td>freshwater metagenome</td>\n",
       "      <td>Neuston of Lake Llebreta</td>\n",
       "    </tr>\n",
       "    <tr>\n",
       "      <th>1</th>\n",
       "      <td>25531</td>\n",
       "      <td>SAMEA1706069</td>\n",
       "      <td>SAMEA1706069</td>\n",
       "      <td>freshwater metagenome</td>\n",
       "      <td>NaN</td>\n",
       "      <td>NaN</td>\n",
       "      <td>NaN</td>\n",
       "      <td>Generic</td>\n",
       "      <td>Generic.1.0</td>\n",
       "      <td>Generic</td>\n",
       "      <td>live</td>\n",
       "      <td>2015-08-07T13:22:21</td>\n",
       "      <td>449393</td>\n",
       "      <td>freshwater metagenome</td>\n",
       "      <td>1 m depth of Lake Llebreta</td>\n",
       "    </tr>\n",
       "    <tr>\n",
       "      <th>2</th>\n",
       "      <td>25532</td>\n",
       "      <td>SAMEA1706067</td>\n",
       "      <td>SAMEA1706067</td>\n",
       "      <td>freshwater metagenome</td>\n",
       "      <td>NaN</td>\n",
       "      <td>NaN</td>\n",
       "      <td>NaN</td>\n",
       "      <td>Generic</td>\n",
       "      <td>Generic.1.0</td>\n",
       "      <td>Generic</td>\n",
       "      <td>live</td>\n",
       "      <td>2015-08-07T13:22:21</td>\n",
       "      <td>449393</td>\n",
       "      <td>freshwater metagenome</td>\n",
       "      <td>Neuston of Lake Llebreta</td>\n",
       "    </tr>\n",
       "    <tr>\n",
       "      <th>3</th>\n",
       "      <td>25533</td>\n",
       "      <td>SAMEA1706066</td>\n",
       "      <td>SAMEA1706066</td>\n",
       "      <td>freshwater metagenome</td>\n",
       "      <td>NaN</td>\n",
       "      <td>NaN</td>\n",
       "      <td>NaN</td>\n",
       "      <td>Generic</td>\n",
       "      <td>Generic.1.0</td>\n",
       "      <td>Generic</td>\n",
       "      <td>live</td>\n",
       "      <td>2015-08-07T13:22:21</td>\n",
       "      <td>449393</td>\n",
       "      <td>freshwater metagenome</td>\n",
       "      <td>1 m depth of Lake Llebreta</td>\n",
       "    </tr>\n",
       "    <tr>\n",
       "      <th>4</th>\n",
       "      <td>25534</td>\n",
       "      <td>SAMEA1706068</td>\n",
       "      <td>SAMEA1706068</td>\n",
       "      <td>freshwater metagenome</td>\n",
       "      <td>NaN</td>\n",
       "      <td>NaN</td>\n",
       "      <td>NaN</td>\n",
       "      <td>Generic</td>\n",
       "      <td>Generic.1.0</td>\n",
       "      <td>Generic</td>\n",
       "      <td>live</td>\n",
       "      <td>2015-08-07T13:22:21</td>\n",
       "      <td>449393</td>\n",
       "      <td>freshwater metagenome</td>\n",
       "      <td>Neuston of Lake Llebreta</td>\n",
       "    </tr>\n",
       "    <tr>\n",
       "      <th>...</th>\n",
       "      <td>...</td>\n",
       "      <td>...</td>\n",
       "      <td>...</td>\n",
       "      <td>...</td>\n",
       "      <td>...</td>\n",
       "      <td>...</td>\n",
       "      <td>...</td>\n",
       "      <td>...</td>\n",
       "      <td>...</td>\n",
       "      <td>...</td>\n",
       "      <td>...</td>\n",
       "      <td>...</td>\n",
       "      <td>...</td>\n",
       "      <td>...</td>\n",
       "      <td>...</td>\n",
       "    </tr>\n",
       "    <tr>\n",
       "      <th>250810</th>\n",
       "      <td>21289891</td>\n",
       "      <td>SAMEA9831465</td>\n",
       "      <td>SAMEA9831465</td>\n",
       "      <td>12159.THS2.DREADD9.Post1; Activation of TH and...</td>\n",
       "      <td>NaN</td>\n",
       "      <td>NaN</td>\n",
       "      <td>NaN</td>\n",
       "      <td>Generic</td>\n",
       "      <td>Generic.1.0</td>\n",
       "      <td>Generic</td>\n",
       "      <td>live</td>\n",
       "      <td>2021-09-07T10:27:53.038</td>\n",
       "      <td>410661</td>\n",
       "      <td>mouse gut metagenome</td>\n",
       "      <td>Post-injection D1- fecal pellet</td>\n",
       "    </tr>\n",
       "    <tr>\n",
       "      <th>250811</th>\n",
       "      <td>21289892</td>\n",
       "      <td>SAMEA9831466</td>\n",
       "      <td>SAMEA9831466</td>\n",
       "      <td>12159.THS2.DREADD9.Post5; Activation of TH and...</td>\n",
       "      <td>NaN</td>\n",
       "      <td>NaN</td>\n",
       "      <td>NaN</td>\n",
       "      <td>Generic</td>\n",
       "      <td>Generic.1.0</td>\n",
       "      <td>Generic</td>\n",
       "      <td>live</td>\n",
       "      <td>2021-09-07T10:27:53.059</td>\n",
       "      <td>410661</td>\n",
       "      <td>mouse gut metagenome</td>\n",
       "      <td>Post-injection D5- fecal pellet</td>\n",
       "    </tr>\n",
       "    <tr>\n",
       "      <th>250812</th>\n",
       "      <td>21289893</td>\n",
       "      <td>SAMEA9831467</td>\n",
       "      <td>SAMEA9831467</td>\n",
       "      <td>Activation of TH and ChAT Neurons by DREADDs E...</td>\n",
       "      <td>NaN</td>\n",
       "      <td>NaN</td>\n",
       "      <td>NaN</td>\n",
       "      <td>Generic</td>\n",
       "      <td>Generic.1.0</td>\n",
       "      <td>Generic</td>\n",
       "      <td>live</td>\n",
       "      <td>2021-09-07T10:27:53.079</td>\n",
       "      <td>410661</td>\n",
       "      <td>mouse gut metagenome</td>\n",
       "      <td>Post-injection D9- fecal pellet</td>\n",
       "    </tr>\n",
       "    <tr>\n",
       "      <th>250813</th>\n",
       "      <td>21289894</td>\n",
       "      <td>SAMEA9831468</td>\n",
       "      <td>SAMEA9831468</td>\n",
       "      <td>Activation of TH and ChAT Neurons by DREADDs E...</td>\n",
       "      <td>NaN</td>\n",
       "      <td>NaN</td>\n",
       "      <td>NaN</td>\n",
       "      <td>Generic</td>\n",
       "      <td>Generic.1.0</td>\n",
       "      <td>Generic</td>\n",
       "      <td>live</td>\n",
       "      <td>2021-09-07T10:27:53.099</td>\n",
       "      <td>410661</td>\n",
       "      <td>mouse gut metagenome</td>\n",
       "      <td>Pre-injection D1- fecal pellet</td>\n",
       "    </tr>\n",
       "    <tr>\n",
       "      <th>250814</th>\n",
       "      <td>21289895</td>\n",
       "      <td>SAMEA9831469</td>\n",
       "      <td>SAMEA9831469</td>\n",
       "      <td>12159.THS2.DREADD9.cecum; Activation of TH and...</td>\n",
       "      <td>NaN</td>\n",
       "      <td>NaN</td>\n",
       "      <td>NaN</td>\n",
       "      <td>Generic</td>\n",
       "      <td>Generic.1.0</td>\n",
       "      <td>Generic</td>\n",
       "      <td>live</td>\n",
       "      <td>2021-09-07T10:27:53.121</td>\n",
       "      <td>410661</td>\n",
       "      <td>mouse gut metagenome</td>\n",
       "      <td>Post-injection D10 - cecal content</td>\n",
       "    </tr>\n",
       "  </tbody>\n",
       "</table>\n",
       "<p>250815 rows × 15 columns</p>\n",
       "</div>"
      ],
      "text/plain": [
       "              id     accession    primary_id  \\\n",
       "0          25530  SAMEA1706070  SAMEA1706070   \n",
       "1          25531  SAMEA1706069  SAMEA1706069   \n",
       "2          25532  SAMEA1706067  SAMEA1706067   \n",
       "3          25533  SAMEA1706066  SAMEA1706066   \n",
       "4          25534  SAMEA1706068  SAMEA1706068   \n",
       "...          ...           ...           ...   \n",
       "250810  21289891  SAMEA9831465  SAMEA9831465   \n",
       "250811  21289892  SAMEA9831466  SAMEA9831466   \n",
       "250812  21289893  SAMEA9831467  SAMEA9831467   \n",
       "250813  21289894  SAMEA9831468  SAMEA9831468   \n",
       "250814  21289895  SAMEA9831469  SAMEA9831469   \n",
       "\n",
       "                                                    title  dna_source  doi  \\\n",
       "0                                   freshwater metagenome         NaN  NaN   \n",
       "1                                   freshwater metagenome         NaN  NaN   \n",
       "2                                   freshwater metagenome         NaN  NaN   \n",
       "3                                   freshwater metagenome         NaN  NaN   \n",
       "4                                   freshwater metagenome         NaN  NaN   \n",
       "...                                                   ...         ...  ...   \n",
       "250810  12159.THS2.DREADD9.Post1; Activation of TH and...         NaN  NaN   \n",
       "250811  12159.THS2.DREADD9.Post5; Activation of TH and...         NaN  NaN   \n",
       "250812  Activation of TH and ChAT Neurons by DREADDs E...         NaN  NaN   \n",
       "250813  Activation of TH and ChAT Neurons by DREADDs E...         NaN  NaN   \n",
       "250814  12159.THS2.DREADD9.cecum; Activation of TH and...         NaN  NaN   \n",
       "\n",
       "       entrez_links    model      package package_name status  \\\n",
       "0               NaN  Generic  Generic.1.0      Generic   live   \n",
       "1               NaN  Generic  Generic.1.0      Generic   live   \n",
       "2               NaN  Generic  Generic.1.0      Generic   live   \n",
       "3               NaN  Generic  Generic.1.0      Generic   live   \n",
       "4               NaN  Generic  Generic.1.0      Generic   live   \n",
       "...             ...      ...          ...          ...    ...   \n",
       "250810          NaN  Generic  Generic.1.0      Generic   live   \n",
       "250811          NaN  Generic  Generic.1.0      Generic   live   \n",
       "250812          NaN  Generic  Generic.1.0      Generic   live   \n",
       "250813          NaN  Generic  Generic.1.0      Generic   live   \n",
       "250814          NaN  Generic  Generic.1.0      Generic   live   \n",
       "\n",
       "                    status_date  taxonomy_id          taxonomy_name  \\\n",
       "0           2015-08-07T13:22:21       449393  freshwater metagenome   \n",
       "1           2015-08-07T13:22:21       449393  freshwater metagenome   \n",
       "2           2015-08-07T13:22:21       449393  freshwater metagenome   \n",
       "3           2015-08-07T13:22:21       449393  freshwater metagenome   \n",
       "4           2015-08-07T13:22:21       449393  freshwater metagenome   \n",
       "...                         ...          ...                    ...   \n",
       "250810  2021-09-07T10:27:53.038       410661   mouse gut metagenome   \n",
       "250811  2021-09-07T10:27:53.059       410661   mouse gut metagenome   \n",
       "250812  2021-09-07T10:27:53.079       410661   mouse gut metagenome   \n",
       "250813  2021-09-07T10:27:53.099       410661   mouse gut metagenome   \n",
       "250814  2021-09-07T10:27:53.121       410661   mouse gut metagenome   \n",
       "\n",
       "                                 paragraph  \n",
       "0                 Neuston of Lake Llebreta  \n",
       "1               1 m depth of Lake Llebreta  \n",
       "2                 Neuston of Lake Llebreta  \n",
       "3               1 m depth of Lake Llebreta  \n",
       "4                 Neuston of Lake Llebreta  \n",
       "...                                    ...  \n",
       "250810     Post-injection D1- fecal pellet  \n",
       "250811     Post-injection D5- fecal pellet  \n",
       "250812     Post-injection D9- fecal pellet  \n",
       "250813      Pre-injection D1- fecal pellet  \n",
       "250814  Post-injection D10 - cecal content  \n",
       "\n",
       "[250815 rows x 15 columns]"
      ]
     },
     "execution_count": 36,
     "metadata": {},
     "output_type": "execute_result"
    }
   ],
   "source": [
    "bs_non_attribute"
   ]
  },
  {
   "cell_type": "code",
   "execution_count": 37,
   "id": "0ad86c69",
   "metadata": {
    "ExecuteTime": {
     "end_time": "2021-09-27T16:40:41.574587Z",
     "start_time": "2021-09-27T16:40:40.163810Z"
    }
   },
   "outputs": [],
   "source": [
    "hn_long = pd.read_csv(hn_long_file, sep=\"\\t\")"
   ]
  },
  {
   "cell_type": "code",
   "execution_count": 39,
   "id": "119e5cf8",
   "metadata": {
    "ExecuteTime": {
     "end_time": "2021-09-27T16:40:59.096167Z",
     "start_time": "2021-09-27T16:40:59.092717Z"
    }
   },
   "outputs": [
    {
     "data": {
      "text/plain": [
       "(3963432, 3)"
      ]
     },
     "execution_count": 39,
     "metadata": {},
     "output_type": "execute_result"
    }
   ],
   "source": [
    "hn_long.shape"
   ]
  },
  {
   "cell_type": "code",
   "execution_count": 40,
   "id": "d32263ff",
   "metadata": {
    "ExecuteTime": {
     "end_time": "2021-09-27T16:41:13.879791Z",
     "start_time": "2021-09-27T16:41:02.307227Z"
    }
   },
   "outputs": [],
   "source": [
    "# 12 sec for 3963432 rows\n",
    "hn_wide = hn_long.pivot(index=\"id\", columns=\"attribute\", values=\"value\")\n",
    "# hn_wide"
   ]
  },
  {
   "cell_type": "code",
   "execution_count": 41,
   "id": "cdc65958",
   "metadata": {
    "ExecuteTime": {
     "end_time": "2021-09-27T16:42:45.395849Z",
     "start_time": "2021-09-27T16:42:44.516808Z"
    }
   },
   "outputs": [],
   "source": [
    "# env_package_mapping\n",
    "# raw_env_package\tenv_package\n",
    "hn_wide = hn_wide.merge(\n",
    "    env_package_mapping,\n",
    "    how=\"left\",\n",
    "    left_on=\"env_package\",\n",
    "    right_on=\"raw_env_package\",\n",
    "    suffixes=[\"_original\", \"_mapped\"],\n",
    ")\n",
    "# hn_wide"
   ]
  },
  {
   "cell_type": "code",
   "execution_count": 42,
   "id": "7011014b",
   "metadata": {
    "ExecuteTime": {
     "end_time": "2021-09-27T16:42:51.517785Z",
     "start_time": "2021-09-27T16:42:47.473481Z"
    }
   },
   "outputs": [
    {
     "data": {
      "text/html": [
       "<div>\n",
       "<style scoped>\n",
       "    .dataframe tbody tr th:only-of-type {\n",
       "        vertical-align: middle;\n",
       "    }\n",
       "\n",
       "    .dataframe tbody tr th {\n",
       "        vertical-align: top;\n",
       "    }\n",
       "\n",
       "    .dataframe thead th {\n",
       "        text-align: right;\n",
       "    }\n",
       "</style>\n",
       "<table border=\"1\" class=\"dataframe\">\n",
       "  <thead>\n",
       "    <tr style=\"text-align: right;\">\n",
       "      <th></th>\n",
       "      <th>age</th>\n",
       "      <th>agrochem_addition</th>\n",
       "      <th>air_temp</th>\n",
       "      <th>air_temp_regm</th>\n",
       "      <th>al_sat</th>\n",
       "      <th>al_sat_meth</th>\n",
       "      <th>alkalinity</th>\n",
       "      <th>altitude</th>\n",
       "      <th>ammonium</th>\n",
       "      <th>annual_season_precpt</th>\n",
       "      <th>...</th>\n",
       "      <th>wastewater_type</th>\n",
       "      <th>water_content</th>\n",
       "      <th>water_content_soil</th>\n",
       "      <th>water_content_soil_meth</th>\n",
       "      <th>water_current</th>\n",
       "      <th>watering_regm</th>\n",
       "      <th>wind_direction</th>\n",
       "      <th>wind_speed</th>\n",
       "      <th>raw_env_package</th>\n",
       "      <th>env_package_mapped</th>\n",
       "    </tr>\n",
       "    <tr>\n",
       "      <th>env_package_mapped</th>\n",
       "      <th></th>\n",
       "      <th></th>\n",
       "      <th></th>\n",
       "      <th></th>\n",
       "      <th></th>\n",
       "      <th></th>\n",
       "      <th></th>\n",
       "      <th></th>\n",
       "      <th></th>\n",
       "      <th></th>\n",
       "      <th></th>\n",
       "      <th></th>\n",
       "      <th></th>\n",
       "      <th></th>\n",
       "      <th></th>\n",
       "      <th></th>\n",
       "      <th></th>\n",
       "      <th></th>\n",
       "      <th></th>\n",
       "      <th></th>\n",
       "      <th></th>\n",
       "    </tr>\n",
       "  </thead>\n",
       "  <tbody>\n",
       "    <tr>\n",
       "      <th>air</th>\n",
       "      <td>0.000000</td>\n",
       "      <td>0.00000</td>\n",
       "      <td>0.000000</td>\n",
       "      <td>0.000000</td>\n",
       "      <td>0.000000</td>\n",
       "      <td>0.000000</td>\n",
       "      <td>0.000000</td>\n",
       "      <td>0.466970</td>\n",
       "      <td>0.000000</td>\n",
       "      <td>0.000000</td>\n",
       "      <td>...</td>\n",
       "      <td>0.000000</td>\n",
       "      <td>0.000000</td>\n",
       "      <td>0.000000</td>\n",
       "      <td>0.000000</td>\n",
       "      <td>0.000000</td>\n",
       "      <td>0.000000</td>\n",
       "      <td>0.018223</td>\n",
       "      <td>0.034169</td>\n",
       "      <td>1.0</td>\n",
       "      <td>1.0</td>\n",
       "    </tr>\n",
       "    <tr>\n",
       "      <th>built</th>\n",
       "      <td>0.060753</td>\n",
       "      <td>0.00000</td>\n",
       "      <td>0.004178</td>\n",
       "      <td>0.000000</td>\n",
       "      <td>0.000000</td>\n",
       "      <td>0.000000</td>\n",
       "      <td>0.000000</td>\n",
       "      <td>0.000205</td>\n",
       "      <td>0.062877</td>\n",
       "      <td>0.000000</td>\n",
       "      <td>...</td>\n",
       "      <td>0.000000</td>\n",
       "      <td>0.000000</td>\n",
       "      <td>0.000000</td>\n",
       "      <td>0.000000</td>\n",
       "      <td>0.000000</td>\n",
       "      <td>0.000000</td>\n",
       "      <td>0.000000</td>\n",
       "      <td>0.000000</td>\n",
       "      <td>1.0</td>\n",
       "      <td>1.0</td>\n",
       "    </tr>\n",
       "    <tr>\n",
       "      <th>host-associated</th>\n",
       "      <td>0.166557</td>\n",
       "      <td>0.00000</td>\n",
       "      <td>0.000000</td>\n",
       "      <td>0.000000</td>\n",
       "      <td>0.000000</td>\n",
       "      <td>0.000000</td>\n",
       "      <td>0.000000</td>\n",
       "      <td>0.163275</td>\n",
       "      <td>0.000000</td>\n",
       "      <td>0.000013</td>\n",
       "      <td>...</td>\n",
       "      <td>0.000000</td>\n",
       "      <td>0.000000</td>\n",
       "      <td>0.000027</td>\n",
       "      <td>0.000000</td>\n",
       "      <td>0.000000</td>\n",
       "      <td>0.000000</td>\n",
       "      <td>0.000000</td>\n",
       "      <td>0.000000</td>\n",
       "      <td>1.0</td>\n",
       "      <td>1.0</td>\n",
       "    </tr>\n",
       "    <tr>\n",
       "      <th>human-gut</th>\n",
       "      <td>0.169663</td>\n",
       "      <td>0.00000</td>\n",
       "      <td>0.000000</td>\n",
       "      <td>0.000000</td>\n",
       "      <td>0.000000</td>\n",
       "      <td>0.000000</td>\n",
       "      <td>0.000000</td>\n",
       "      <td>0.066561</td>\n",
       "      <td>0.000000</td>\n",
       "      <td>0.000000</td>\n",
       "      <td>...</td>\n",
       "      <td>0.000000</td>\n",
       "      <td>0.000000</td>\n",
       "      <td>0.000000</td>\n",
       "      <td>0.000000</td>\n",
       "      <td>0.000000</td>\n",
       "      <td>0.000000</td>\n",
       "      <td>0.000000</td>\n",
       "      <td>0.000000</td>\n",
       "      <td>1.0</td>\n",
       "      <td>1.0</td>\n",
       "    </tr>\n",
       "    <tr>\n",
       "      <th>human-oral</th>\n",
       "      <td>0.158244</td>\n",
       "      <td>0.00000</td>\n",
       "      <td>0.000000</td>\n",
       "      <td>0.000000</td>\n",
       "      <td>0.000000</td>\n",
       "      <td>0.000000</td>\n",
       "      <td>0.000000</td>\n",
       "      <td>0.026759</td>\n",
       "      <td>0.000000</td>\n",
       "      <td>0.000000</td>\n",
       "      <td>...</td>\n",
       "      <td>0.000000</td>\n",
       "      <td>0.000000</td>\n",
       "      <td>0.000000</td>\n",
       "      <td>0.000000</td>\n",
       "      <td>0.000000</td>\n",
       "      <td>0.000000</td>\n",
       "      <td>0.000000</td>\n",
       "      <td>0.000000</td>\n",
       "      <td>1.0</td>\n",
       "      <td>1.0</td>\n",
       "    </tr>\n",
       "    <tr>\n",
       "      <th>human-skin</th>\n",
       "      <td>0.324530</td>\n",
       "      <td>0.00000</td>\n",
       "      <td>0.001916</td>\n",
       "      <td>0.000000</td>\n",
       "      <td>0.000000</td>\n",
       "      <td>0.000000</td>\n",
       "      <td>0.000000</td>\n",
       "      <td>0.017448</td>\n",
       "      <td>0.000000</td>\n",
       "      <td>0.000000</td>\n",
       "      <td>...</td>\n",
       "      <td>0.000000</td>\n",
       "      <td>0.000000</td>\n",
       "      <td>0.000000</td>\n",
       "      <td>0.000000</td>\n",
       "      <td>0.000000</td>\n",
       "      <td>0.000000</td>\n",
       "      <td>0.000000</td>\n",
       "      <td>0.000000</td>\n",
       "      <td>1.0</td>\n",
       "      <td>1.0</td>\n",
       "    </tr>\n",
       "    <tr>\n",
       "      <th>human-vaginal</th>\n",
       "      <td>0.050712</td>\n",
       "      <td>0.00000</td>\n",
       "      <td>0.000000</td>\n",
       "      <td>0.000000</td>\n",
       "      <td>0.000000</td>\n",
       "      <td>0.000000</td>\n",
       "      <td>0.000000</td>\n",
       "      <td>0.034698</td>\n",
       "      <td>0.000000</td>\n",
       "      <td>0.000000</td>\n",
       "      <td>...</td>\n",
       "      <td>0.000000</td>\n",
       "      <td>0.000000</td>\n",
       "      <td>0.000000</td>\n",
       "      <td>0.000000</td>\n",
       "      <td>0.000000</td>\n",
       "      <td>0.000000</td>\n",
       "      <td>0.000000</td>\n",
       "      <td>0.000000</td>\n",
       "      <td>1.0</td>\n",
       "      <td>1.0</td>\n",
       "    </tr>\n",
       "    <tr>\n",
       "      <th>microbial mat/biofilm</th>\n",
       "      <td>0.000000</td>\n",
       "      <td>0.00000</td>\n",
       "      <td>0.000658</td>\n",
       "      <td>0.000000</td>\n",
       "      <td>0.000000</td>\n",
       "      <td>0.000000</td>\n",
       "      <td>0.031589</td>\n",
       "      <td>0.044093</td>\n",
       "      <td>0.000000</td>\n",
       "      <td>0.000000</td>\n",
       "      <td>...</td>\n",
       "      <td>0.000000</td>\n",
       "      <td>0.031589</td>\n",
       "      <td>0.011846</td>\n",
       "      <td>0.000000</td>\n",
       "      <td>0.000000</td>\n",
       "      <td>0.000000</td>\n",
       "      <td>0.000000</td>\n",
       "      <td>0.000000</td>\n",
       "      <td>1.0</td>\n",
       "      <td>1.0</td>\n",
       "    </tr>\n",
       "    <tr>\n",
       "      <th>miscellaneous</th>\n",
       "      <td>0.008209</td>\n",
       "      <td>0.00000</td>\n",
       "      <td>0.000000</td>\n",
       "      <td>0.000000</td>\n",
       "      <td>0.000000</td>\n",
       "      <td>0.000000</td>\n",
       "      <td>0.000000</td>\n",
       "      <td>0.102126</td>\n",
       "      <td>0.000000</td>\n",
       "      <td>0.000000</td>\n",
       "      <td>...</td>\n",
       "      <td>0.000000</td>\n",
       "      <td>0.000000</td>\n",
       "      <td>0.000123</td>\n",
       "      <td>0.000123</td>\n",
       "      <td>0.000245</td>\n",
       "      <td>0.000000</td>\n",
       "      <td>0.000000</td>\n",
       "      <td>0.000000</td>\n",
       "      <td>1.0</td>\n",
       "      <td>1.0</td>\n",
       "    </tr>\n",
       "    <tr>\n",
       "      <th>plant-associated</th>\n",
       "      <td>0.013801</td>\n",
       "      <td>0.00000</td>\n",
       "      <td>0.000000</td>\n",
       "      <td>0.009661</td>\n",
       "      <td>0.000000</td>\n",
       "      <td>0.000000</td>\n",
       "      <td>0.000000</td>\n",
       "      <td>0.146012</td>\n",
       "      <td>0.000000</td>\n",
       "      <td>0.000000</td>\n",
       "      <td>...</td>\n",
       "      <td>0.000000</td>\n",
       "      <td>0.000000</td>\n",
       "      <td>0.007452</td>\n",
       "      <td>0.000000</td>\n",
       "      <td>0.000000</td>\n",
       "      <td>0.009661</td>\n",
       "      <td>0.000000</td>\n",
       "      <td>0.000000</td>\n",
       "      <td>1.0</td>\n",
       "      <td>1.0</td>\n",
       "    </tr>\n",
       "    <tr>\n",
       "      <th>sediment</th>\n",
       "      <td>0.000135</td>\n",
       "      <td>0.00000</td>\n",
       "      <td>0.000000</td>\n",
       "      <td>0.000000</td>\n",
       "      <td>0.000000</td>\n",
       "      <td>0.000000</td>\n",
       "      <td>0.064699</td>\n",
       "      <td>0.046233</td>\n",
       "      <td>0.062812</td>\n",
       "      <td>0.000000</td>\n",
       "      <td>...</td>\n",
       "      <td>0.000000</td>\n",
       "      <td>0.050411</td>\n",
       "      <td>0.000000</td>\n",
       "      <td>0.000000</td>\n",
       "      <td>0.000000</td>\n",
       "      <td>0.000000</td>\n",
       "      <td>0.000000</td>\n",
       "      <td>0.000000</td>\n",
       "      <td>1.0</td>\n",
       "      <td>1.0</td>\n",
       "    </tr>\n",
       "    <tr>\n",
       "      <th>soil</th>\n",
       "      <td>0.300495</td>\n",
       "      <td>0.03849</td>\n",
       "      <td>0.000928</td>\n",
       "      <td>0.000000</td>\n",
       "      <td>0.006683</td>\n",
       "      <td>0.006683</td>\n",
       "      <td>0.000000</td>\n",
       "      <td>0.184282</td>\n",
       "      <td>0.032488</td>\n",
       "      <td>0.100371</td>\n",
       "      <td>...</td>\n",
       "      <td>0.000000</td>\n",
       "      <td>0.035705</td>\n",
       "      <td>0.154950</td>\n",
       "      <td>0.101176</td>\n",
       "      <td>0.000000</td>\n",
       "      <td>0.000000</td>\n",
       "      <td>0.000000</td>\n",
       "      <td>0.000000</td>\n",
       "      <td>1.0</td>\n",
       "      <td>1.0</td>\n",
       "    </tr>\n",
       "    <tr>\n",
       "      <th>wastewater/sludge</th>\n",
       "      <td>0.000000</td>\n",
       "      <td>0.00000</td>\n",
       "      <td>0.000000</td>\n",
       "      <td>0.000000</td>\n",
       "      <td>0.000000</td>\n",
       "      <td>0.000000</td>\n",
       "      <td>0.000000</td>\n",
       "      <td>0.000000</td>\n",
       "      <td>0.000000</td>\n",
       "      <td>0.000000</td>\n",
       "      <td>...</td>\n",
       "      <td>0.096875</td>\n",
       "      <td>0.000000</td>\n",
       "      <td>0.000000</td>\n",
       "      <td>0.000000</td>\n",
       "      <td>0.000000</td>\n",
       "      <td>0.000000</td>\n",
       "      <td>0.000000</td>\n",
       "      <td>0.000000</td>\n",
       "      <td>1.0</td>\n",
       "      <td>1.0</td>\n",
       "    </tr>\n",
       "    <tr>\n",
       "      <th>water</th>\n",
       "      <td>0.000151</td>\n",
       "      <td>0.00000</td>\n",
       "      <td>0.012310</td>\n",
       "      <td>0.000000</td>\n",
       "      <td>0.000000</td>\n",
       "      <td>0.000000</td>\n",
       "      <td>0.004974</td>\n",
       "      <td>0.128480</td>\n",
       "      <td>0.034368</td>\n",
       "      <td>0.000000</td>\n",
       "      <td>...</td>\n",
       "      <td>0.000000</td>\n",
       "      <td>0.000000</td>\n",
       "      <td>0.000000</td>\n",
       "      <td>0.000000</td>\n",
       "      <td>0.000000</td>\n",
       "      <td>0.000000</td>\n",
       "      <td>0.000000</td>\n",
       "      <td>0.018390</td>\n",
       "      <td>1.0</td>\n",
       "      <td>1.0</td>\n",
       "    </tr>\n",
       "  </tbody>\n",
       "</table>\n",
       "<p>14 rows × 297 columns</p>\n",
       "</div>"
      ],
      "text/plain": [
       "                            age  agrochem_addition  air_temp  air_temp_regm  \\\n",
       "env_package_mapped                                                            \n",
       "air                    0.000000            0.00000  0.000000       0.000000   \n",
       "built                  0.060753            0.00000  0.004178       0.000000   \n",
       "host-associated        0.166557            0.00000  0.000000       0.000000   \n",
       "human-gut              0.169663            0.00000  0.000000       0.000000   \n",
       "human-oral             0.158244            0.00000  0.000000       0.000000   \n",
       "human-skin             0.324530            0.00000  0.001916       0.000000   \n",
       "human-vaginal          0.050712            0.00000  0.000000       0.000000   \n",
       "microbial mat/biofilm  0.000000            0.00000  0.000658       0.000000   \n",
       "miscellaneous          0.008209            0.00000  0.000000       0.000000   \n",
       "plant-associated       0.013801            0.00000  0.000000       0.009661   \n",
       "sediment               0.000135            0.00000  0.000000       0.000000   \n",
       "soil                   0.300495            0.03849  0.000928       0.000000   \n",
       "wastewater/sludge      0.000000            0.00000  0.000000       0.000000   \n",
       "water                  0.000151            0.00000  0.012310       0.000000   \n",
       "\n",
       "                         al_sat  al_sat_meth  alkalinity  altitude  ammonium  \\\n",
       "env_package_mapped                                                             \n",
       "air                    0.000000     0.000000    0.000000  0.466970  0.000000   \n",
       "built                  0.000000     0.000000    0.000000  0.000205  0.062877   \n",
       "host-associated        0.000000     0.000000    0.000000  0.163275  0.000000   \n",
       "human-gut              0.000000     0.000000    0.000000  0.066561  0.000000   \n",
       "human-oral             0.000000     0.000000    0.000000  0.026759  0.000000   \n",
       "human-skin             0.000000     0.000000    0.000000  0.017448  0.000000   \n",
       "human-vaginal          0.000000     0.000000    0.000000  0.034698  0.000000   \n",
       "microbial mat/biofilm  0.000000     0.000000    0.031589  0.044093  0.000000   \n",
       "miscellaneous          0.000000     0.000000    0.000000  0.102126  0.000000   \n",
       "plant-associated       0.000000     0.000000    0.000000  0.146012  0.000000   \n",
       "sediment               0.000000     0.000000    0.064699  0.046233  0.062812   \n",
       "soil                   0.006683     0.006683    0.000000  0.184282  0.032488   \n",
       "wastewater/sludge      0.000000     0.000000    0.000000  0.000000  0.000000   \n",
       "water                  0.000000     0.000000    0.004974  0.128480  0.034368   \n",
       "\n",
       "                       annual_season_precpt  ...  wastewater_type  \\\n",
       "env_package_mapped                           ...                    \n",
       "air                                0.000000  ...         0.000000   \n",
       "built                              0.000000  ...         0.000000   \n",
       "host-associated                    0.000013  ...         0.000000   \n",
       "human-gut                          0.000000  ...         0.000000   \n",
       "human-oral                         0.000000  ...         0.000000   \n",
       "human-skin                         0.000000  ...         0.000000   \n",
       "human-vaginal                      0.000000  ...         0.000000   \n",
       "microbial mat/biofilm              0.000000  ...         0.000000   \n",
       "miscellaneous                      0.000000  ...         0.000000   \n",
       "plant-associated                   0.000000  ...         0.000000   \n",
       "sediment                           0.000000  ...         0.000000   \n",
       "soil                               0.100371  ...         0.000000   \n",
       "wastewater/sludge                  0.000000  ...         0.096875   \n",
       "water                              0.000000  ...         0.000000   \n",
       "\n",
       "                       water_content  water_content_soil  \\\n",
       "env_package_mapped                                         \n",
       "air                         0.000000            0.000000   \n",
       "built                       0.000000            0.000000   \n",
       "host-associated             0.000000            0.000027   \n",
       "human-gut                   0.000000            0.000000   \n",
       "human-oral                  0.000000            0.000000   \n",
       "human-skin                  0.000000            0.000000   \n",
       "human-vaginal               0.000000            0.000000   \n",
       "microbial mat/biofilm       0.031589            0.011846   \n",
       "miscellaneous               0.000000            0.000123   \n",
       "plant-associated            0.000000            0.007452   \n",
       "sediment                    0.050411            0.000000   \n",
       "soil                        0.035705            0.154950   \n",
       "wastewater/sludge           0.000000            0.000000   \n",
       "water                       0.000000            0.000000   \n",
       "\n",
       "                       water_content_soil_meth  water_current  watering_regm  \\\n",
       "env_package_mapped                                                             \n",
       "air                                   0.000000       0.000000       0.000000   \n",
       "built                                 0.000000       0.000000       0.000000   \n",
       "host-associated                       0.000000       0.000000       0.000000   \n",
       "human-gut                             0.000000       0.000000       0.000000   \n",
       "human-oral                            0.000000       0.000000       0.000000   \n",
       "human-skin                            0.000000       0.000000       0.000000   \n",
       "human-vaginal                         0.000000       0.000000       0.000000   \n",
       "microbial mat/biofilm                 0.000000       0.000000       0.000000   \n",
       "miscellaneous                         0.000123       0.000245       0.000000   \n",
       "plant-associated                      0.000000       0.000000       0.009661   \n",
       "sediment                              0.000000       0.000000       0.000000   \n",
       "soil                                  0.101176       0.000000       0.000000   \n",
       "wastewater/sludge                     0.000000       0.000000       0.000000   \n",
       "water                                 0.000000       0.000000       0.000000   \n",
       "\n",
       "                       wind_direction  wind_speed  raw_env_package  \\\n",
       "env_package_mapped                                                   \n",
       "air                          0.018223    0.034169              1.0   \n",
       "built                        0.000000    0.000000              1.0   \n",
       "host-associated              0.000000    0.000000              1.0   \n",
       "human-gut                    0.000000    0.000000              1.0   \n",
       "human-oral                   0.000000    0.000000              1.0   \n",
       "human-skin                   0.000000    0.000000              1.0   \n",
       "human-vaginal                0.000000    0.000000              1.0   \n",
       "microbial mat/biofilm        0.000000    0.000000              1.0   \n",
       "miscellaneous                0.000000    0.000000              1.0   \n",
       "plant-associated             0.000000    0.000000              1.0   \n",
       "sediment                     0.000000    0.000000              1.0   \n",
       "soil                         0.000000    0.000000              1.0   \n",
       "wastewater/sludge            0.000000    0.000000              1.0   \n",
       "water                        0.000000    0.018390              1.0   \n",
       "\n",
       "                       env_package_mapped  \n",
       "env_package_mapped                         \n",
       "air                                   1.0  \n",
       "built                                 1.0  \n",
       "host-associated                       1.0  \n",
       "human-gut                             1.0  \n",
       "human-oral                            1.0  \n",
       "human-skin                            1.0  \n",
       "human-vaginal                         1.0  \n",
       "microbial mat/biofilm                 1.0  \n",
       "miscellaneous                         1.0  \n",
       "plant-associated                      1.0  \n",
       "sediment                              1.0  \n",
       "soil                                  1.0  \n",
       "wastewater/sludge                     1.0  \n",
       "water                                 1.0  \n",
       "\n",
       "[14 rows x 297 columns]"
      ]
     },
     "execution_count": 42,
     "metadata": {},
     "output_type": "execute_result"
    }
   ],
   "source": [
    "column_na_fraction = hn_wide.groupby(\"env_package_mapped\").apply(\n",
    "    lambda x: x.notnull().mean()\n",
    ")\n",
    "column_na_fraction"
   ]
  },
  {
   "cell_type": "code",
   "execution_count": 50,
   "id": "0d945d1d",
   "metadata": {
    "ExecuteTime": {
     "end_time": "2021-09-27T16:48:12.683164Z",
     "start_time": "2021-09-27T16:48:12.675250Z"
    }
   },
   "outputs": [
    {
     "data": {
      "text/plain": [
       "{'ME',\n",
       " 'MIGS bacteria',\n",
       " 'MIGS eukaryote',\n",
       " 'MIGS org',\n",
       " 'MIGS plant',\n",
       " 'MIGS virus',\n",
       " 'MIMAG',\n",
       " 'MIMARKS specimen',\n",
       " 'MIMARKS survey',\n",
       " 'MISAG',\n",
       " 'MIUVIG',\n",
       " 'air',\n",
       " 'air ME',\n",
       " 'air MIGS bacteria',\n",
       " 'air MIGS eukaryote',\n",
       " 'air MIGS org',\n",
       " 'air MIGS plant',\n",
       " 'air MIGS virus',\n",
       " 'air MIMAG',\n",
       " 'air MIMARKS specimen',\n",
       " 'air MIMARKS survey',\n",
       " 'air MISAG',\n",
       " 'air MIUVIG',\n",
       " 'built environment',\n",
       " 'built environment ME',\n",
       " 'built environment MIGS bacteria',\n",
       " 'built environment MIGS eukaryote',\n",
       " 'built environment MIGS org',\n",
       " 'built environment MIGS plant',\n",
       " 'built environment MIGS virus',\n",
       " 'built environment MIMAG',\n",
       " 'built environment MIMARKS specimen',\n",
       " 'built environment MIMARKS survey',\n",
       " 'built environment MISAG',\n",
       " 'built environment MIUVIG',\n",
       " 'core',\n",
       " 'host-associated',\n",
       " 'host-associated ME',\n",
       " 'host-associated MIGS bacteria',\n",
       " 'host-associated MIGS eukaryote',\n",
       " 'host-associated MIGS org',\n",
       " 'host-associated MIGS plant',\n",
       " 'host-associated MIGS virus',\n",
       " 'host-associated MIMAG',\n",
       " 'host-associated MIMARKS specimen',\n",
       " 'host-associated MIMARKS survey',\n",
       " 'host-associated MISAG',\n",
       " 'host-associated MIUVIG',\n",
       " 'human-associated',\n",
       " 'human-associated ME',\n",
       " 'human-associated MIGS bacteria',\n",
       " 'human-associated MIGS eukaryote',\n",
       " 'human-associated MIGS org',\n",
       " 'human-associated MIGS plant',\n",
       " 'human-associated MIGS virus',\n",
       " 'human-associated MIMAG',\n",
       " 'human-associated MIMARKS specimen',\n",
       " 'human-associated MIMARKS survey',\n",
       " 'human-associated MISAG',\n",
       " 'human-associated MIUVIG',\n",
       " 'human-gut',\n",
       " 'human-gut ME',\n",
       " 'human-gut MIGS bacteria',\n",
       " 'human-gut MIGS eukaryote',\n",
       " 'human-gut MIGS org',\n",
       " 'human-gut MIGS plant',\n",
       " 'human-gut MIGS virus',\n",
       " 'human-gut MIMAG',\n",
       " 'human-gut MIMARKS specimen',\n",
       " 'human-gut MIMARKS survey',\n",
       " 'human-gut MISAG',\n",
       " 'human-gut MIUVIG',\n",
       " 'human-oral',\n",
       " 'human-oral ME',\n",
       " 'human-oral MIGS bacteria',\n",
       " 'human-oral MIGS eukaryote',\n",
       " 'human-oral MIGS org',\n",
       " 'human-oral MIGS plant',\n",
       " 'human-oral MIGS virus',\n",
       " 'human-oral MIMAG',\n",
       " 'human-oral MIMARKS specimen',\n",
       " 'human-oral MIMARKS survey',\n",
       " 'human-oral MISAG',\n",
       " 'human-oral MIUVIG',\n",
       " 'human-skin',\n",
       " 'human-skin ME',\n",
       " 'human-skin MIGS bacteria',\n",
       " 'human-skin MIGS eukaryote',\n",
       " 'human-skin MIGS org',\n",
       " 'human-skin MIGS plant',\n",
       " 'human-skin MIGS virus',\n",
       " 'human-skin MIMAG',\n",
       " 'human-skin MIMARKS specimen',\n",
       " 'human-skin MIMARKS survey',\n",
       " 'human-skin MISAG',\n",
       " 'human-skin MIUVIG',\n",
       " 'human-vaginal',\n",
       " 'human-vaginal ME',\n",
       " 'human-vaginal MIGS bacteria',\n",
       " 'human-vaginal MIGS eukaryote',\n",
       " 'human-vaginal MIGS org',\n",
       " 'human-vaginal MIGS plant',\n",
       " 'human-vaginal MIGS virus',\n",
       " 'human-vaginal MIMAG',\n",
       " 'human-vaginal MIMARKS specimen',\n",
       " 'human-vaginal MIMARKS survey',\n",
       " 'human-vaginal MISAG',\n",
       " 'human-vaginal MIUVIG',\n",
       " 'hydrocarbon resources-cores',\n",
       " 'hydrocarbon resources-cores ME',\n",
       " 'hydrocarbon resources-cores MIGS bacteria',\n",
       " 'hydrocarbon resources-cores MIGS eukaryote',\n",
       " 'hydrocarbon resources-cores MIGS org',\n",
       " 'hydrocarbon resources-cores MIGS plant',\n",
       " 'hydrocarbon resources-cores MIGS virus',\n",
       " 'hydrocarbon resources-cores MIMAG',\n",
       " 'hydrocarbon resources-cores MIMARKS specimen',\n",
       " 'hydrocarbon resources-cores MIMARKS survey',\n",
       " 'hydrocarbon resources-cores MISAG',\n",
       " 'hydrocarbon resources-cores MIUVIG',\n",
       " 'hydrocarbon resources-fluids_swabs',\n",
       " 'hydrocarbon resources-fluids_swabs ME',\n",
       " 'hydrocarbon resources-fluids_swabs MIGS bacteria',\n",
       " 'hydrocarbon resources-fluids_swabs MIGS eukaryote',\n",
       " 'hydrocarbon resources-fluids_swabs MIGS org',\n",
       " 'hydrocarbon resources-fluids_swabs MIGS plant',\n",
       " 'hydrocarbon resources-fluids_swabs MIGS virus',\n",
       " 'hydrocarbon resources-fluids_swabs MIMAG',\n",
       " 'hydrocarbon resources-fluids_swabs MIMARKS specimen',\n",
       " 'hydrocarbon resources-fluids_swabs MIMARKS survey',\n",
       " 'hydrocarbon resources-fluids_swabs MISAG',\n",
       " 'hydrocarbon resources-fluids_swabs MIUVIG',\n",
       " 'microbial mat_biofilm',\n",
       " 'microbial mat_biofilm ME',\n",
       " 'microbial mat_biofilm MIGS bacteria',\n",
       " 'microbial mat_biofilm MIGS eukaryote',\n",
       " 'microbial mat_biofilm MIGS org',\n",
       " 'microbial mat_biofilm MIGS plant',\n",
       " 'microbial mat_biofilm MIGS virus',\n",
       " 'microbial mat_biofilm MIMAG',\n",
       " 'microbial mat_biofilm MIMARKS specimen',\n",
       " 'microbial mat_biofilm MIMARKS survey',\n",
       " 'microbial mat_biofilm MISAG',\n",
       " 'microbial mat_biofilm MIUVIG',\n",
       " 'miscellaneous natural or artificial environment',\n",
       " 'miscellaneous natural or artificial environment ME',\n",
       " 'miscellaneous natural or artificial environment MIGS bacteria',\n",
       " 'miscellaneous natural or artificial environment MIGS eukaryote',\n",
       " 'miscellaneous natural or artificial environment MIGS org',\n",
       " 'miscellaneous natural or artificial environment MIGS plant',\n",
       " 'miscellaneous natural or artificial environment MIGS virus',\n",
       " 'miscellaneous natural or artificial environment MIMAG',\n",
       " 'miscellaneous natural or artificial environment MIMARKS specimen',\n",
       " 'miscellaneous natural or artificial environment MIMARKS survey',\n",
       " 'miscellaneous natural or artificial environment MISAG',\n",
       " 'miscellaneous natural or artificial environment MIUVIG',\n",
       " 'plant-associated',\n",
       " 'plant-associated ME',\n",
       " 'plant-associated MIGS bacteria',\n",
       " 'plant-associated MIGS eukaryote',\n",
       " 'plant-associated MIGS org',\n",
       " 'plant-associated MIGS plant',\n",
       " 'plant-associated MIGS virus',\n",
       " 'plant-associated MIMAG',\n",
       " 'plant-associated MIMARKS specimen',\n",
       " 'plant-associated MIMARKS survey',\n",
       " 'plant-associated MISAG',\n",
       " 'plant-associated MIUVIG',\n",
       " 'quantity value',\n",
       " 'sediment',\n",
       " 'sediment ME',\n",
       " 'sediment MIGS bacteria',\n",
       " 'sediment MIGS eukaryote',\n",
       " 'sediment MIGS org',\n",
       " 'sediment MIGS plant',\n",
       " 'sediment MIGS virus',\n",
       " 'sediment MIMAG',\n",
       " 'sediment MIMARKS specimen',\n",
       " 'sediment MIMARKS survey',\n",
       " 'sediment MISAG',\n",
       " 'sediment MIUVIG',\n",
       " 'soil',\n",
       " 'soil ME',\n",
       " 'soil MIGS bacteria',\n",
       " 'soil MIGS eukaryote',\n",
       " 'soil MIGS org',\n",
       " 'soil MIGS plant',\n",
       " 'soil MIGS virus',\n",
       " 'soil MIMAG',\n",
       " 'soil MIMARKS specimen',\n",
       " 'soil MIMARKS survey',\n",
       " 'soil MISAG',\n",
       " 'soil MIUVIG',\n",
       " 'wastewater_sludge',\n",
       " 'wastewater_sludge ME',\n",
       " 'wastewater_sludge MIGS bacteria',\n",
       " 'wastewater_sludge MIGS eukaryote',\n",
       " 'wastewater_sludge MIGS org',\n",
       " 'wastewater_sludge MIGS plant',\n",
       " 'wastewater_sludge MIGS virus',\n",
       " 'wastewater_sludge MIMAG',\n",
       " 'wastewater_sludge MIMARKS specimen',\n",
       " 'wastewater_sludge MIMARKS survey',\n",
       " 'wastewater_sludge MISAG',\n",
       " 'wastewater_sludge MIUVIG',\n",
       " 'water',\n",
       " 'water ME',\n",
       " 'water MIGS bacteria',\n",
       " 'water MIGS eukaryote',\n",
       " 'water MIGS org',\n",
       " 'water MIGS plant',\n",
       " 'water MIGS virus',\n",
       " 'water MIMAG',\n",
       " 'water MIMARKS specimen',\n",
       " 'water MIMARKS survey',\n",
       " 'water MISAG',\n",
       " 'water MIUVIG'}"
      ]
     },
     "execution_count": 50,
     "metadata": {},
     "output_type": "execute_result"
    }
   ],
   "source": [
    "# remember?\n",
    "# mixs_package_slots\n",
    "\n",
    "column_na_fraction_packages = set(column_na_fraction.index)\n",
    "mixs_package_slots_classes = set(mixs_package_slots['class'])\n",
    "# mixs_package_slots_classes\n",
    "\n",
    "not_again = column_na_fraction_packages - mixs_package_slots_classes\n",
    "# {'built', 'microbial mat/biofilm', 'miscellaneous', 'wastewater/sludge'}\n",
    "\n",
    "# mixs_package_slots_classes\n",
    "# 'built environment',\n",
    "# 'microbial mat_biofilm',\n",
    "# 'miscellaneous natural or artificial environment',\n",
    "# 'wastewater_sludge',"
   ]
  },
  {
   "cell_type": "raw",
   "id": "9e2b7803",
   "metadata": {},
   "source": []
  },
  {
   "cell_type": "markdown",
   "id": "38f26284",
   "metadata": {},
   "source": [
    "----"
   ]
  },
  {
   "cell_type": "code",
   "execution_count": null,
   "id": "cdf2f6bf",
   "metadata": {
    "ExecuteTime": {
     "end_time": "2021-09-25T18:06:07.537249Z",
     "start_time": "2021-09-25T18:06:07.527179Z"
    }
   },
   "outputs": [],
   "source": [
    "scaled = StandardScaler().fit_transform(column_na_fraction)\n",
    "# scaled"
   ]
  },
  {
   "cell_type": "code",
   "execution_count": null,
   "id": "f1706686",
   "metadata": {
    "ExecuteTime": {
     "end_time": "2021-09-25T18:06:07.546711Z",
     "start_time": "2021-09-25T18:06:07.538542Z"
    }
   },
   "outputs": [],
   "source": [
    "pca = PCA(n_components=2)\n",
    "principalComponents = pca.fit_transform(scaled)\n",
    "principalDf = pd.DataFrame(\n",
    "    data=principalComponents, columns=[\"principal component 1\", \"principal component 2\"]\n",
    ")\n",
    "principalDf.index = column_na_fraction.index\n",
    "principalDf"
   ]
  },
  {
   "cell_type": "code",
   "execution_count": null,
   "id": "3beb63bd",
   "metadata": {
    "ExecuteTime": {
     "end_time": "2021-09-25T18:06:07.879049Z",
     "start_time": "2021-09-25T18:06:07.547999Z"
    }
   },
   "outputs": [],
   "source": [
    "plt.rcParams[\"figure.figsize\"] = [15, 15]\n",
    "\n",
    "cmap = cm.get_cmap(\"Spectral\")\n",
    "fig, ax3 = plt.subplots()\n",
    "principalDf.plot(\n",
    "    \"principal component 1\",\n",
    "    \"principal component 2\",\n",
    "    kind=\"scatter\",\n",
    "    ax=ax3,\n",
    "    s=120,\n",
    "    linewidth=0,\n",
    "    c=range(len(principalDf)),\n",
    "    colormap=cmap,\n",
    ")\n",
    "\n",
    "for k, v in principalDf.iterrows():\n",
    "    ax3.annotate(\n",
    "        k,\n",
    "        v,\n",
    "        xytext=(10, -5),\n",
    "        textcoords=\"offset points\",\n",
    "        family=\"sans-serif\",\n",
    "        fontsize=12,\n",
    "        #         color=\"darkslategrey\",\n",
    "        color=\"black\",\n",
    "    )\n",
    "\n",
    "plt.savefig(\"insdc_column_usage.pdf\")"
   ]
  },
  {
   "cell_type": "markdown",
   "id": "6817ba24",
   "metadata": {},
   "source": [
    "----"
   ]
  },
  {
   "cell_type": "code",
   "execution_count": null,
   "id": "f1f2f6fa",
   "metadata": {
    "ExecuteTime": {
     "end_time": "2021-09-25T18:06:07.882556Z",
     "start_time": "2021-09-25T18:06:07.880447Z"
    }
   },
   "outputs": [],
   "source": [
    "# column_na_fraction_features = list[column_na_fraction.columns]\n",
    "# column_na_fraction_features.remove([\"\"])"
   ]
  },
  {
   "cell_type": "code",
   "execution_count": null,
   "id": "d6e320db",
   "metadata": {
    "ExecuteTime": {
     "end_time": "2021-09-25T18:06:07.885547Z",
     "start_time": "2021-09-25T18:06:07.883789Z"
    }
   },
   "outputs": [],
   "source": [
    "# hnw_ep_counts = hn_wide[\"env_package\"].value_counts()"
   ]
  },
  {
   "cell_type": "code",
   "execution_count": null,
   "id": "0867cd8c",
   "metadata": {
    "ExecuteTime": {
     "end_time": "2021-09-25T18:06:07.888674Z",
     "start_time": "2021-09-25T18:06:07.886905Z"
    }
   },
   "outputs": [],
   "source": [
    "# hnw_ep_counts = hnw_ep_counts.rename_axis(\"raw_env_package\").reset_index(name=\"count\")\n",
    "# # hnw_ep_counts['count']\n",
    "# hnw_ep_counts"
   ]
  },
  {
   "cell_type": "code",
   "execution_count": null,
   "id": "dc7c86b1",
   "metadata": {
    "ExecuteTime": {
     "end_time": "2021-09-25T18:06:07.891843Z",
     "start_time": "2021-09-25T18:06:07.889984Z"
    }
   },
   "outputs": [],
   "source": [
    "# hnw_ep_counts.to_csv(\"raw_env_package_counts.tsv\", sep=\"\\t\", index=False)"
   ]
  },
  {
   "cell_type": "code",
   "execution_count": null,
   "id": "2273afbc",
   "metadata": {
    "ExecuteTime": {
     "end_time": "2021-09-25T18:06:07.894910Z",
     "start_time": "2021-09-25T18:06:07.893109Z"
    },
    "scrolled": true
   },
   "outputs": [],
   "source": [
    "# plt.hist(hnw_ep_counts[\"count\"], bins=99)"
   ]
  },
  {
   "cell_type": "code",
   "execution_count": null,
   "id": "e4f8413d",
   "metadata": {
    "ExecuteTime": {
     "end_time": "2021-09-25T18:06:07.897698Z",
     "start_time": "2021-09-25T18:06:07.896053Z"
    },
    "scrolled": true
   },
   "outputs": [],
   "source": [
    "# temp = hnw_ep_counts.loc[hnw_ep_counts[\"count\"].gt(100)]\n",
    "# temp"
   ]
  },
  {
   "cell_type": "code",
   "execution_count": null,
   "id": "06154b65",
   "metadata": {
    "ExecuteTime": {
     "end_time": "2021-09-25T18:06:07.921143Z",
     "start_time": "2021-09-25T18:06:07.899167Z"
    }
   },
   "outputs": [],
   "source": [
    "profile = ProfileReport(\n",
    "    hn_wide, title=\"Pandas Profiling Report\", minimal=True, vars={\"cat\": {\"n_obs\": 20}}\n",
    ")"
   ]
  },
  {
   "cell_type": "code",
   "execution_count": null,
   "id": "dfaf3d73",
   "metadata": {
    "ExecuteTime": {
     "end_time": "2021-09-25T18:06:27.725717Z",
     "start_time": "2021-09-25T18:06:07.922590Z"
    }
   },
   "outputs": [],
   "source": [
    "a = profile.to_json()\n",
    "textfile = open(\"insdc_biosample_WITH_env_package_profile.json\", \"w\")\n",
    "textfile.write(a)\n",
    "textfile.close()"
   ]
  },
  {
   "cell_type": "code",
   "execution_count": null,
   "id": "78b7ab9e",
   "metadata": {
    "ExecuteTime": {
     "end_time": "2021-09-25T18:09:27.013744Z",
     "start_time": "2021-09-25T18:06:27.727994Z"
    },
    "scrolled": true
   },
   "outputs": [],
   "source": [
    "profile.to_widgets()"
   ]
  },
  {
   "cell_type": "code",
   "execution_count": null,
   "id": "d5c183d6",
   "metadata": {
    "ExecuteTime": {
     "end_time": "2021-09-25T18:09:30.010311Z",
     "start_time": "2021-09-25T18:09:27.015153Z"
    }
   },
   "outputs": [],
   "source": [
    "profile.to_file(\"insdc_biosample_WITH_env_package_profile.html\")"
   ]
  },
  {
   "cell_type": "code",
   "execution_count": null,
   "id": "0ea896bd",
   "metadata": {},
   "outputs": [],
   "source": []
  }
 ],
 "metadata": {
  "kernelspec": {
   "display_name": "Python 3 (ipykernel)",
   "language": "python",
   "name": "python3"
  },
  "language_info": {
   "codemirror_mode": {
    "name": "ipython",
    "version": 3
   },
   "file_extension": ".py",
   "mimetype": "text/x-python",
   "name": "python",
   "nbconvert_exporter": "python",
   "pygments_lexer": "ipython3",
   "version": "3.9.6"
  },
  "varInspector": {
   "cols": {
    "lenName": 16,
    "lenType": 16,
    "lenVar": 40
   },
   "kernels_config": {
    "python": {
     "delete_cmd_postfix": "",
     "delete_cmd_prefix": "del ",
     "library": "var_list.py",
     "varRefreshCmd": "print(var_dic_list())"
    },
    "r": {
     "delete_cmd_postfix": ") ",
     "delete_cmd_prefix": "rm(",
     "library": "var_list.r",
     "varRefreshCmd": "cat(var_dic_list()) "
    }
   },
   "types_to_exclude": [
    "module",
    "function",
    "builtin_function_or_method",
    "instance",
    "_Feature"
   ],
   "window_display": false
  }
 },
 "nbformat": 4,
 "nbformat_minor": 5
}
