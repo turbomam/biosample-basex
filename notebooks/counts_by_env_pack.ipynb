{
 "cells": [
  {
   "cell_type": "code",
   "execution_count": 1,
   "id": "b0fd1945",
   "metadata": {
    "ExecuteTime": {
     "end_time": "2022-01-01T19:07:47.361997Z",
     "start_time": "2022-01-01T19:07:46.928142Z"
    }
   },
   "outputs": [],
   "source": [
    "import pandas as pd"
   ]
  },
  {
   "cell_type": "code",
   "execution_count": 2,
   "id": "631a3065",
   "metadata": {
    "ExecuteTime": {
     "end_time": "2022-01-01T19:07:47.366103Z",
     "start_time": "2022-01-01T19:07:47.363430Z"
    }
   },
   "outputs": [],
   "source": [
    "input_file  = \"../target/ha_highlights.tsv\"\n",
    "output_file = \"../reports/bcp_counts_by_env_pack.tsv\""
   ]
  },
  {
   "cell_type": "code",
   "execution_count": 3,
   "id": "bd35770b",
   "metadata": {
    "ExecuteTime": {
     "end_time": "2022-01-01T19:08:11.453021Z",
     "start_time": "2022-01-01T19:07:47.369276Z"
    }
   },
   "outputs": [],
   "source": [
    "highlights_frame = pd.read_csv(input_file, sep=\"\\t\", low_memory=False)"
   ]
  },
  {
   "cell_type": "code",
   "execution_count": 6,
   "id": "b12a662b",
   "metadata": {
    "ExecuteTime": {
     "end_time": "2022-01-01T19:10:03.800438Z",
     "start_time": "2022-01-01T19:10:03.791044Z"
    }
   },
   "outputs": [
    {
     "data": {
      "text/plain": [
       "Index(['raw_id', 'env_package', 'bacteria_carb_prod', 'collection_date',\n",
       "       'experimental_factor', 'investigation_type', 'link_addit_analys',\n",
       "       'microbial_biomass', 'samp_collect_device', 'samp_mat_process',\n",
       "       'samp_size', 'sample_name', 'sieving', 'size_frac',\n",
       "       'source_material_id', 'store_cond'],\n",
       "      dtype='object')"
      ]
     },
     "execution_count": 6,
     "metadata": {},
     "output_type": "execute_result"
    }
   ],
   "source": [
    "highlights_frame.columns"
   ]
  },
  {
   "cell_type": "code",
   "execution_count": 8,
   "id": "7c6c7a71",
   "metadata": {
    "ExecuteTime": {
     "end_time": "2022-01-01T19:10:37.807740Z",
     "start_time": "2022-01-01T19:10:35.956794Z"
    }
   },
   "outputs": [],
   "source": [
    "by_env_pack = pd.DataFrame(\n",
    "    highlights_frame.value_counts([\"env_package\", \"samp_collect_device\"], dropna=False)\n",
    ").reset_index()"
   ]
  },
  {
   "cell_type": "code",
   "execution_count": 9,
   "id": "a50abc46",
   "metadata": {
    "ExecuteTime": {
     "end_time": "2022-01-01T19:10:39.442114Z",
     "start_time": "2022-01-01T19:10:39.439254Z"
    }
   },
   "outputs": [],
   "source": [
    "by_env_pack.rename(columns={0: \"count\"}, inplace=True)"
   ]
  },
  {
   "cell_type": "code",
   "execution_count": 10,
   "id": "1066e720",
   "metadata": {
    "ExecuteTime": {
     "end_time": "2022-01-01T19:10:40.539370Z",
     "start_time": "2022-01-01T19:10:40.524249Z"
    }
   },
   "outputs": [],
   "source": [
    "by_env_pack.to_csv(output_file, sep=\"\\t\", index=False)"
   ]
  },
  {
   "cell_type": "code",
   "execution_count": 11,
   "id": "11478cea",
   "metadata": {
    "ExecuteTime": {
     "end_time": "2022-01-01T19:10:41.614843Z",
     "start_time": "2022-01-01T19:10:41.601993Z"
    }
   },
   "outputs": [
    {
     "data": {
      "text/html": [
       "<div>\n",
       "<style scoped>\n",
       "    .dataframe tbody tr th:only-of-type {\n",
       "        vertical-align: middle;\n",
       "    }\n",
       "\n",
       "    .dataframe tbody tr th {\n",
       "        vertical-align: top;\n",
       "    }\n",
       "\n",
       "    .dataframe thead th {\n",
       "        text-align: right;\n",
       "    }\n",
       "</style>\n",
       "<table border=\"1\" class=\"dataframe\">\n",
       "  <thead>\n",
       "    <tr style=\"text-align: right;\">\n",
       "      <th></th>\n",
       "      <th>env_package</th>\n",
       "      <th>samp_collect_device</th>\n",
       "      <th>count</th>\n",
       "    </tr>\n",
       "  </thead>\n",
       "  <tbody>\n",
       "    <tr>\n",
       "      <th>0</th>\n",
       "      <td>NaN</td>\n",
       "      <td>NaN</td>\n",
       "      <td>21891386</td>\n",
       "    </tr>\n",
       "    <tr>\n",
       "      <th>1</th>\n",
       "      <td>host-associated</td>\n",
       "      <td>NaN</td>\n",
       "      <td>75359</td>\n",
       "    </tr>\n",
       "    <tr>\n",
       "      <th>2</th>\n",
       "      <td>human-gut</td>\n",
       "      <td>NaN</td>\n",
       "      <td>59388</td>\n",
       "    </tr>\n",
       "    <tr>\n",
       "      <th>3</th>\n",
       "      <td>water</td>\n",
       "      <td>NaN</td>\n",
       "      <td>20327</td>\n",
       "    </tr>\n",
       "    <tr>\n",
       "      <th>4</th>\n",
       "      <td>miscellaneous natural or artificial environment</td>\n",
       "      <td>NaN</td>\n",
       "      <td>16011</td>\n",
       "    </tr>\n",
       "    <tr>\n",
       "      <th>...</th>\n",
       "      <td>...</td>\n",
       "      <td>...</td>\n",
       "      <td>...</td>\n",
       "    </tr>\n",
       "    <tr>\n",
       "      <th>6079</th>\n",
       "      <td>NaN</td>\n",
       "      <td>Petri dish 17</td>\n",
       "      <td>1</td>\n",
       "    </tr>\n",
       "    <tr>\n",
       "      <th>6080</th>\n",
       "      <td>NaN</td>\n",
       "      <td>Petri dish 18</td>\n",
       "      <td>1</td>\n",
       "    </tr>\n",
       "    <tr>\n",
       "      <th>6081</th>\n",
       "      <td>NaN</td>\n",
       "      <td>Petri dish 19</td>\n",
       "      <td>1</td>\n",
       "    </tr>\n",
       "    <tr>\n",
       "      <th>6082</th>\n",
       "      <td>NaN</td>\n",
       "      <td>Petri dish 2</td>\n",
       "      <td>1</td>\n",
       "    </tr>\n",
       "    <tr>\n",
       "      <th>6083</th>\n",
       "      <td>NaN</td>\n",
       "      <td>R1D84</td>\n",
       "      <td>1</td>\n",
       "    </tr>\n",
       "  </tbody>\n",
       "</table>\n",
       "<p>6084 rows × 3 columns</p>\n",
       "</div>"
      ],
      "text/plain": [
       "                                          env_package samp_collect_device  \\\n",
       "0                                                 NaN                 NaN   \n",
       "1                                     host-associated                 NaN   \n",
       "2                                           human-gut                 NaN   \n",
       "3                                               water                 NaN   \n",
       "4     miscellaneous natural or artificial environment                 NaN   \n",
       "...                                               ...                 ...   \n",
       "6079                                              NaN       Petri dish 17   \n",
       "6080                                              NaN       Petri dish 18   \n",
       "6081                                              NaN       Petri dish 19   \n",
       "6082                                              NaN        Petri dish 2   \n",
       "6083                                              NaN               R1D84   \n",
       "\n",
       "         count  \n",
       "0     21891386  \n",
       "1        75359  \n",
       "2        59388  \n",
       "3        20327  \n",
       "4        16011  \n",
       "...        ...  \n",
       "6079         1  \n",
       "6080         1  \n",
       "6081         1  \n",
       "6082         1  \n",
       "6083         1  \n",
       "\n",
       "[6084 rows x 3 columns]"
      ]
     },
     "execution_count": 11,
     "metadata": {},
     "output_type": "execute_result"
    }
   ],
   "source": [
    "by_env_pack"
   ]
  },
  {
   "cell_type": "code",
   "execution_count": null,
   "id": "59339918",
   "metadata": {},
   "outputs": [],
   "source": []
  }
 ],
 "metadata": {
  "kernelspec": {
   "display_name": "Python 3 (ipykernel)",
   "language": "python",
   "name": "python3"
  },
  "language_info": {
   "codemirror_mode": {
    "name": "ipython",
    "version": 3
   },
   "file_extension": ".py",
   "mimetype": "text/x-python",
   "name": "python",
   "nbconvert_exporter": "python",
   "pygments_lexer": "ipython3",
   "version": "3.9.9"
  },
  "varInspector": {
   "cols": {
    "lenName": 16,
    "lenType": 16,
    "lenVar": 40
   },
   "kernels_config": {
    "python": {
     "delete_cmd_postfix": "",
     "delete_cmd_prefix": "del ",
     "library": "var_list.py",
     "varRefreshCmd": "print(var_dic_list())"
    },
    "r": {
     "delete_cmd_postfix": ") ",
     "delete_cmd_prefix": "rm(",
     "library": "var_list.r",
     "varRefreshCmd": "cat(var_dic_list()) "
    }
   },
   "types_to_exclude": [
    "module",
    "function",
    "builtin_function_or_method",
    "instance",
    "_Feature"
   ],
   "window_display": false
  }
 },
 "nbformat": 4,
 "nbformat_minor": 5
}
